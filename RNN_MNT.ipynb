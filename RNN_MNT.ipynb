{
  "nbformat": 4,
  "nbformat_minor": 0,
  "metadata": {
    "colab": {
      "name": "RNN_MNT.ipynb",
      "provenance": [],
      "authorship_tag": "ABX9TyOq7Ydjjfre2tWKP6N0kKHm",
      "include_colab_link": true
    },
    "kernelspec": {
      "name": "python3",
      "display_name": "Python 3"
    },
    "language_info": {
      "name": "python"
    }
  },
  "cells": [
    {
      "cell_type": "markdown",
      "metadata": {
        "id": "view-in-github",
        "colab_type": "text"
      },
      "source": [
        "<a href=\"https://colab.research.google.com/github/pacificblue/Data-Science-Hands-on-Projects/blob/main/RNN_MNT.ipynb\" target=\"_parent\"><img src=\"https://colab.research.google.com/assets/colab-badge.svg\" alt=\"Open In Colab\"/></a>"
      ]
    },
    {
      "cell_type": "code",
      "metadata": {
        "id": "K_lnkRGxsO5H"
      },
      "source": [
        "# get the data at: http://www.manythings.org/anki/\n",
        "from __future__ import print_function, division\n",
        "from builtins import range, input\n",
        "# Note: you may need to update your version of future\n",
        "# sudo pip install -U future\n",
        "\n",
        "import os, sys\n",
        "\n",
        "from keras.models import Model\n",
        "from keras.layers import Input, LSTM, GRU, Dense, Embedding\n",
        "from keras.preprocessing.text import Tokenizer\n",
        "from keras.preprocessing.sequence import pad_sequences\n",
        "from keras.utils import to_categorical\n",
        "import numpy as np\n",
        "import matplotlib.pyplot as plt\n",
        "\n",
        "try:\n",
        "  import keras.backend as K\n",
        "  if len(K.tensorflow_backend._get_available_gpus()) > 0:\n",
        "    from keras.layers import CuDNNLSTM as LSTM\n",
        "    from keras.layers import CuDNNGRU as GRU\n",
        "except:\n",
        "  pass\n"
      ],
      "execution_count": 1,
      "outputs": []
    },
    {
      "cell_type": "code",
      "metadata": {
        "id": "NyIjTBT6sZsE"
      },
      "source": [
        "# some config\n",
        "BATCH_SIZE = 64  # Batch size for training.\n",
        "EPOCHS = 40  # Number of epochs to train for.\n",
        "LATENT_DIM = 256  # Latent dimensionality of the encoding space.\n",
        "NUM_SAMPLES = 10000  # Number of samples to train on.\n",
        "MAX_NUM_WORDS = 20000\n",
        "EMBEDDING_DIM = 100"
      ],
      "execution_count": 2,
      "outputs": []
    },
    {
      "cell_type": "code",
      "metadata": {
        "id": "rQmADAFesifx"
      },
      "source": [
        "# Where we will store the data\n",
        "input_texts = [] # sentence in original language\n",
        "target_texts = [] # sentence in target language\n",
        "target_texts_inputs = [] # sentence in target language offset by 1"
      ],
      "execution_count": 3,
      "outputs": []
    },
    {
      "cell_type": "code",
      "metadata": {
        "colab": {
          "base_uri": "https://localhost:8080/"
        },
        "id": "f74HOylsspE2",
        "outputId": "a784b5f8-80be-4a55-af85-08afe1d4854b"
      },
      "source": [
        "# load in the data\n",
        "# download the data at: http://www.manythings.org/anki/\n",
        "t = 0\n",
        "for line in open('deu.txt'):\n",
        "  # only keep a limited number of samples\n",
        "  t += 1\n",
        "  if t > NUM_SAMPLES:\n",
        "    break\n",
        "\n",
        "  # input and target are separated by tab\n",
        "  if '\\t' not in line:\n",
        "    continue\n",
        "\n",
        "  # split up the input and translation\n",
        "  input_text, translation, *rest = line.rstrip().split('\\t')\n",
        "\n",
        "  # make the target input and output\n",
        "  # recall we'll be using teacher forcing\n",
        "  target_text = translation + ' <eos>'\n",
        "  target_text_input = '<sos> ' + translation\n",
        "\n",
        "  input_texts.append(input_text)\n",
        "  target_texts.append(target_text)\n",
        "  target_texts_inputs.append(target_text_input)\n",
        "print(\"num samples:\", len(input_texts))\n"
      ],
      "execution_count": 6,
      "outputs": [
        {
          "output_type": "stream",
          "text": [
            "num samples: 10000\n"
          ],
          "name": "stdout"
        }
      ]
    },
    {
      "cell_type": "code",
      "metadata": {
        "colab": {
          "base_uri": "https://localhost:8080/"
        },
        "id": "-_psvNhVtlsb",
        "outputId": "1b5518b9-2d4a-4f20-c984-63c674b7e398"
      },
      "source": [
        "# tokenize the inputs\n",
        "tokenizer_inputs = Tokenizer(num_words=MAX_NUM_WORDS)\n",
        "tokenizer_inputs.fit_on_texts(input_texts)\n",
        "input_sequences = tokenizer_inputs.texts_to_sequences(input_texts)\n",
        "\n",
        "# get the word to index mapping for input language\n",
        "word2idx_inputs = tokenizer_inputs.word_index\n",
        "print('Found %s unique input tokens.' % len(word2idx_inputs))"
      ],
      "execution_count": 7,
      "outputs": [
        {
          "output_type": "stream",
          "text": [
            "Found 2282 unique input tokens.\n"
          ],
          "name": "stdout"
        }
      ]
    },
    {
      "cell_type": "code",
      "metadata": {
        "colab": {
          "base_uri": "https://localhost:8080/"
        },
        "id": "Hi0adoGDtp8i",
        "outputId": "b091203e-2076-4cd3-9e4a-3c7f52e07bb2"
      },
      "source": [
        "# determine maximum length input sequence\n",
        "max_len_input = max(len(s) for s in input_sequences)\n",
        "\n",
        "# tokenize the outputs\n",
        "# don't filter out special characters\n",
        "# otherwise <sos> and <eos> won't appear\n",
        "tokenizer_outputs = Tokenizer(num_words=MAX_NUM_WORDS, filters='')\n",
        "tokenizer_outputs.fit_on_texts(target_texts + target_texts_inputs) # inefficient, oh well\n",
        "target_sequences = tokenizer_outputs.texts_to_sequences(target_texts)\n",
        "target_sequences_inputs = tokenizer_outputs.texts_to_sequences(target_texts_inputs)\n",
        "\n",
        "# get the word to index mapping for output language\n",
        "word2idx_outputs = tokenizer_outputs.word_index\n",
        "print('Found %s unique output tokens.' % len(word2idx_outputs))"
      ],
      "execution_count": 8,
      "outputs": [
        {
          "output_type": "stream",
          "text": [
            "Found 5043 unique output tokens.\n"
          ],
          "name": "stdout"
        }
      ]
    },
    {
      "cell_type": "code",
      "metadata": {
        "colab": {
          "base_uri": "https://localhost:8080/"
        },
        "id": "PwYQhbgHtwHg",
        "outputId": "82c85756-61ae-4ab5-8cb3-07a253efd1ba"
      },
      "source": [
        "# store number of output words for later\n",
        "# remember to add 1 since indexing starts at 1\n",
        "num_words_output = len(word2idx_outputs) + 1\n",
        "\n",
        "# determine maximum length output sequence\n",
        "max_len_target = max(len(s) for s in target_sequences)\n",
        "\n",
        "\n",
        "# pad the sequences\n",
        "encoder_inputs = pad_sequences(input_sequences, maxlen=max_len_input)\n",
        "print(\"encoder_inputs.shape:\", encoder_inputs.shape)\n",
        "print(\"encoder_inputs[0]:\", encoder_inputs[0])\n",
        "\n",
        "decoder_inputs = pad_sequences(target_sequences_inputs, maxlen=max_len_target, padding='post')\n",
        "print(\"decoder_inputs[0]:\", decoder_inputs[0])\n",
        "print(\"decoder_inputs.shape:\", decoder_inputs.shape)\n",
        "\n",
        "decoder_targets = pad_sequences(target_sequences, maxlen=max_len_target, padding='post')"
      ],
      "execution_count": 9,
      "outputs": [
        {
          "output_type": "stream",
          "text": [
            "encoder_inputs.shape: (10000, 5)\n",
            "encoder_inputs[0]: [ 0  0  0  0 12]\n",
            "decoder_inputs[0]: [   2 1535    0    0    0    0    0    0    0    0]\n",
            "decoder_inputs.shape: (10000, 10)\n"
          ],
          "name": "stdout"
        }
      ]
    },
    {
      "cell_type": "code",
      "metadata": {
        "colab": {
          "base_uri": "https://localhost:8080/"
        },
        "id": "cWUT0CTst0ae",
        "outputId": "011ac855-8c2d-42fb-ffe5-1cf6006a0b75"
      },
      "source": [
        "# store number of output words for later\n",
        "# remember to add 1 since indexing starts at 1\n",
        "num_words_output = len(word2idx_outputs) + 1\n",
        "\n",
        "# determine maximum length output sequence\n",
        "max_len_target = max(len(s) for s in target_sequences)\n",
        "\n",
        "\n",
        "# pad the sequences\n",
        "encoder_inputs = pad_sequences(input_sequences, maxlen=max_len_input)\n",
        "print(\"encoder_inputs.shape:\", encoder_inputs.shape)\n",
        "print(\"encoder_inputs[0]:\", encoder_inputs[0])\n",
        "\n",
        "decoder_inputs = pad_sequences(target_sequences_inputs, maxlen=max_len_target, padding='post')\n",
        "print(\"decoder_inputs[0]:\", decoder_inputs[0])\n",
        "print(\"decoder_inputs.shape:\", decoder_inputs.shape)\n",
        "\n",
        "decoder_targets = pad_sequences(target_sequences, maxlen=max_len_target, padding='post')"
      ],
      "execution_count": 10,
      "outputs": [
        {
          "output_type": "stream",
          "text": [
            "encoder_inputs.shape: (10000, 5)\n",
            "encoder_inputs[0]: [ 0  0  0  0 12]\n",
            "decoder_inputs[0]: [   2 1535    0    0    0    0    0    0    0    0]\n",
            "decoder_inputs.shape: (10000, 10)\n"
          ],
          "name": "stdout"
        }
      ]
    },
    {
      "cell_type": "code",
      "metadata": {
        "colab": {
          "base_uri": "https://localhost:8080/"
        },
        "id": "OfVm08nNt6V9",
        "outputId": "5dd34fe0-6893-4fed-e567-a117c9e32fbf"
      },
      "source": [
        "# store all the pre-trained word vectors\n",
        "print('Loading word vectors...')\n",
        "word2vec = {}\n",
        "with open(os.path.join('glove.6B.%sd.txt' % EMBEDDING_DIM)) as f:\n",
        "  # is just a space-separated text file in the format:\n",
        "  # word vec[0] vec[1] vec[2] ...\n",
        "  for line in f:\n",
        "    values = line.split()\n",
        "    word = values[0]\n",
        "    vec = np.asarray(values[1:], dtype='float32')\n",
        "    word2vec[word] = vec\n",
        "print('Found %s word vectors.' % len(word2vec))\n",
        "\n",
        "# prepare embedding matrix\n",
        "print('Filling pre-trained embeddings...')\n",
        "num_words = min(MAX_NUM_WORDS, len(word2idx_inputs) + 1)\n",
        "embedding_matrix = np.zeros((num_words, EMBEDDING_DIM))\n",
        "for word, i in word2idx_inputs.items():\n",
        "  if i < MAX_NUM_WORDS:\n",
        "    embedding_vector = word2vec.get(word)\n",
        "    if embedding_vector is not None:\n",
        "      # words not found in embedding index will be all zeros.\n",
        "      embedding_matrix[i] = embedding_vector\n",
        "\n",
        "# create embedding layer\n",
        "embedding_layer = Embedding(\n",
        "  num_words,\n",
        "  EMBEDDING_DIM,\n",
        "  weights=[embedding_matrix],\n",
        "  input_length=max_len_input,\n",
        "  # trainable=True\n",
        ")"
      ],
      "execution_count": 14,
      "outputs": [
        {
          "output_type": "stream",
          "text": [
            "Loading word vectors...\n",
            "Found 6118 word vectors.\n",
            "Filling pre-trained embeddings...\n"
          ],
          "name": "stdout"
        }
      ]
    },
    {
      "cell_type": "code",
      "metadata": {
        "id": "ED4gCxnpvETh"
      },
      "source": [
        "# create targets, since we cannot use sparse\n",
        "# categorical cross entropy when we have sequences\n",
        "decoder_targets_one_hot = np.zeros(\n",
        "  (\n",
        "    len(input_texts),\n",
        "    max_len_target,\n",
        "    num_words_output\n",
        "  ),\n",
        "  dtype='float32'\n",
        ")\n",
        "\n",
        "# assign the values\n",
        "for i, d in enumerate(decoder_targets):\n",
        "  for t, word in enumerate(d):\n",
        "    if word != 0:\n",
        "      decoder_targets_one_hot[i, t, word] = 1"
      ],
      "execution_count": 15,
      "outputs": []
    },
    {
      "cell_type": "code",
      "metadata": {
        "id": "WHNCsps3valh"
      },
      "source": [
        "\n",
        "##### build the model #####\n",
        "encoder_inputs_placeholder = Input(shape=(max_len_input,))\n",
        "x = embedding_layer(encoder_inputs_placeholder)\n",
        "encoder = LSTM(\n",
        "  LATENT_DIM,\n",
        "  return_state=True,\n",
        "  # dropout=0.5 # dropout not available on gpu\n",
        ")\n",
        "encoder_outputs, h, c = encoder(x)\n",
        "# encoder_outputs, h = encoder(x) #gru\n",
        "\n",
        "# keep only the states to pass into decoder\n",
        "encoder_states = [h, c]\n",
        "# encoder_states = [state_h] # gru\n",
        "\n",
        "# Set up the decoder, using [h, c] as initial state.\n",
        "decoder_inputs_placeholder = Input(shape=(max_len_target,))\n",
        "\n",
        "# this word embedding will not use pre-trained vectors\n",
        "# although you could\n",
        "decoder_embedding = Embedding(num_words_output, EMBEDDING_DIM)\n",
        "decoder_inputs_x = decoder_embedding(decoder_inputs_placeholder)\n",
        "\n",
        "# since the decoder is a \"to-many\" model we want to have\n",
        "# return_sequences=True\n",
        "decoder_lstm = LSTM(\n",
        "  LATENT_DIM,\n",
        "  return_sequences=True,\n",
        "  return_state=True,\n",
        "  # dropout=0.5 # dropout not available on gpu\n",
        ")\n",
        "decoder_outputs, _, _ = decoder_lstm(\n",
        "  decoder_inputs_x,\n",
        "  initial_state=encoder_states\n",
        ")\n",
        "\n",
        "# decoder_outputs, _ = decoder_gru(\n",
        "#   decoder_inputs_x,\n",
        "#   initial_state=encoder_states\n",
        "# )\n",
        "\n",
        "# final dense layer for predictions\n",
        "decoder_dense = Dense(num_words_output, activation='softmax')\n",
        "decoder_outputs = decoder_dense(decoder_outputs)\n",
        "\n",
        "# Create the model object\n",
        "model = Model([encoder_inputs_placeholder, decoder_inputs_placeholder], decoder_outputs)"
      ],
      "execution_count": 16,
      "outputs": []
    },
    {
      "cell_type": "code",
      "metadata": {
        "colab": {
          "base_uri": "https://localhost:8080/"
        },
        "id": "TIH1sPjfvcfn",
        "outputId": "ed1f4439-73aa-4a0b-acd2-e274753719e5"
      },
      "source": [
        "def custom_loss(y_true, y_pred):\n",
        "  # both are of shape N x T x K\n",
        "  mask = K.cast(y_true > 0, dtype='float32')\n",
        "  out = mask * y_true * K.log(y_pred)\n",
        "  return -K.sum(out) / K.sum(mask)\n",
        "\n",
        "\n",
        "def acc(y_true, y_pred):\n",
        "  # both are of shape N x T x K\n",
        "  targ = K.argmax(y_true, axis=-1)\n",
        "  pred = K.argmax(y_pred, axis=-1)\n",
        "  correct = K.cast(K.equal(targ, pred), dtype='float32')\n",
        "\n",
        "  # 0 is padding, don't include those\n",
        "  mask = K.cast(K.greater(targ, 0), dtype='float32')\n",
        "  n_correct = K.sum(mask * correct)\n",
        "  n_total = K.sum(mask)\n",
        "  return n_correct / n_total\n",
        "\n",
        "model.compile(optimizer='adam', loss=custom_loss, metrics=[acc])\n",
        "\n",
        "# Compile the model and train it\n",
        "# model.compile(\n",
        "#   optimizer='rmsprop',\n",
        "#   loss='categorical_crossentropy',\n",
        "#   metrics=['accuracy']\n",
        "# )\n",
        "\n",
        "\n",
        "\n",
        "r = model.fit(\n",
        "  [encoder_inputs, decoder_inputs], decoder_targets_one_hot,\n",
        "  batch_size=BATCH_SIZE,\n",
        "  epochs=EPOCHS,\n",
        "  validation_split=0.2,\n",
        ")"
      ],
      "execution_count": 17,
      "outputs": [
        {
          "output_type": "stream",
          "text": [
            "Epoch 1/40\n",
            "125/125 [==============================] - 47s 351ms/step - loss: 6.2758 - acc: 0.2541 - val_loss: 4.8802 - val_acc: 0.3204\n",
            "Epoch 2/40\n",
            "125/125 [==============================] - 43s 341ms/step - loss: 4.5649 - acc: 0.3312 - val_loss: 4.5007 - val_acc: 0.3970\n",
            "Epoch 3/40\n",
            "125/125 [==============================] - 42s 335ms/step - loss: 4.1048 - acc: 0.3686 - val_loss: 4.2145 - val_acc: 0.4295\n",
            "Epoch 4/40\n",
            "125/125 [==============================] - 43s 346ms/step - loss: 3.7116 - acc: 0.4148 - val_loss: 4.0582 - val_acc: 0.4472\n",
            "Epoch 5/40\n",
            "125/125 [==============================] - 43s 347ms/step - loss: 3.4281 - acc: 0.4434 - val_loss: 3.9632 - val_acc: 0.4678\n",
            "Epoch 6/40\n",
            "125/125 [==============================] - 43s 345ms/step - loss: 3.1980 - acc: 0.4704 - val_loss: 3.8920 - val_acc: 0.4794\n",
            "Epoch 7/40\n",
            "125/125 [==============================] - 43s 348ms/step - loss: 2.9572 - acc: 0.4972 - val_loss: 3.8188 - val_acc: 0.4970\n",
            "Epoch 8/40\n",
            "125/125 [==============================] - 45s 357ms/step - loss: 2.7676 - acc: 0.5171 - val_loss: 3.7837 - val_acc: 0.5023\n",
            "Epoch 9/40\n",
            "125/125 [==============================] - 43s 346ms/step - loss: 2.5833 - acc: 0.5363 - val_loss: 3.7733 - val_acc: 0.5094\n",
            "Epoch 10/40\n",
            "125/125 [==============================] - 44s 348ms/step - loss: 2.4230 - acc: 0.5541 - val_loss: 3.7580 - val_acc: 0.5133\n",
            "Epoch 11/40\n",
            "125/125 [==============================] - 43s 343ms/step - loss: 2.2697 - acc: 0.5712 - val_loss: 3.7368 - val_acc: 0.5213\n",
            "Epoch 12/40\n",
            "125/125 [==============================] - 46s 366ms/step - loss: 2.1301 - acc: 0.5865 - val_loss: 3.7365 - val_acc: 0.5229\n",
            "Epoch 13/40\n",
            "125/125 [==============================] - 45s 358ms/step - loss: 1.9792 - acc: 0.6075 - val_loss: 3.7297 - val_acc: 0.5321\n",
            "Epoch 14/40\n",
            "125/125 [==============================] - 44s 350ms/step - loss: 1.8633 - acc: 0.6202 - val_loss: 3.7074 - val_acc: 0.5329\n",
            "Epoch 15/40\n",
            "125/125 [==============================] - 43s 346ms/step - loss: 1.7272 - acc: 0.6375 - val_loss: 3.7305 - val_acc: 0.5365\n",
            "Epoch 16/40\n",
            "125/125 [==============================] - 50s 399ms/step - loss: 1.6083 - acc: 0.6593 - val_loss: 3.7128 - val_acc: 0.5398\n",
            "Epoch 17/40\n",
            "125/125 [==============================] - 43s 344ms/step - loss: 1.4934 - acc: 0.6787 - val_loss: 3.7349 - val_acc: 0.5418\n",
            "Epoch 18/40\n",
            "125/125 [==============================] - 42s 340ms/step - loss: 1.3846 - acc: 0.6990 - val_loss: 3.7247 - val_acc: 0.5435\n",
            "Epoch 19/40\n",
            "125/125 [==============================] - 43s 342ms/step - loss: 1.2846 - acc: 0.7193 - val_loss: 3.7397 - val_acc: 0.5406\n",
            "Epoch 20/40\n",
            "125/125 [==============================] - 46s 366ms/step - loss: 1.1837 - acc: 0.7390 - val_loss: 3.7592 - val_acc: 0.5446\n",
            "Epoch 21/40\n",
            "125/125 [==============================] - 43s 346ms/step - loss: 1.1030 - acc: 0.7520 - val_loss: 3.7736 - val_acc: 0.5450\n",
            "Epoch 22/40\n",
            "125/125 [==============================] - 42s 339ms/step - loss: 1.0264 - acc: 0.7711 - val_loss: 3.7713 - val_acc: 0.5437\n",
            "Epoch 23/40\n",
            "125/125 [==============================] - 43s 347ms/step - loss: 0.9472 - acc: 0.7851 - val_loss: 3.7920 - val_acc: 0.5441\n",
            "Epoch 24/40\n",
            "125/125 [==============================] - 45s 363ms/step - loss: 0.8809 - acc: 0.7988 - val_loss: 3.8243 - val_acc: 0.5422\n",
            "Epoch 25/40\n",
            "125/125 [==============================] - 44s 348ms/step - loss: 0.8163 - acc: 0.8121 - val_loss: 3.8160 - val_acc: 0.5437\n",
            "Epoch 26/40\n",
            "125/125 [==============================] - 43s 341ms/step - loss: 0.7719 - acc: 0.8188 - val_loss: 3.8565 - val_acc: 0.5398\n",
            "Epoch 27/40\n",
            "125/125 [==============================] - 43s 343ms/step - loss: 0.7098 - acc: 0.8325 - val_loss: 3.8714 - val_acc: 0.5411\n",
            "Epoch 28/40\n",
            "125/125 [==============================] - 44s 350ms/step - loss: 0.6613 - acc: 0.8421 - val_loss: 3.8818 - val_acc: 0.5401\n",
            "Epoch 29/40\n",
            "125/125 [==============================] - 44s 348ms/step - loss: 0.6137 - acc: 0.8522 - val_loss: 3.8866 - val_acc: 0.5391\n",
            "Epoch 30/40\n",
            "125/125 [==============================] - 42s 339ms/step - loss: 0.5824 - acc: 0.8573 - val_loss: 3.9039 - val_acc: 0.5456\n",
            "Epoch 31/40\n",
            "125/125 [==============================] - 42s 335ms/step - loss: 0.5368 - acc: 0.8675 - val_loss: 3.9152 - val_acc: 0.5416\n",
            "Epoch 32/40\n",
            "125/125 [==============================] - 41s 332ms/step - loss: 0.5084 - acc: 0.8715 - val_loss: 3.9486 - val_acc: 0.5393\n",
            "Epoch 33/40\n",
            "125/125 [==============================] - 43s 347ms/step - loss: 0.4758 - acc: 0.8781 - val_loss: 3.9667 - val_acc: 0.5429\n",
            "Epoch 34/40\n",
            "125/125 [==============================] - 42s 337ms/step - loss: 0.4497 - acc: 0.8800 - val_loss: 3.9753 - val_acc: 0.5419\n",
            "Epoch 35/40\n",
            "125/125 [==============================] - 42s 333ms/step - loss: 0.4225 - acc: 0.8846 - val_loss: 4.0043 - val_acc: 0.5351\n",
            "Epoch 36/40\n",
            "125/125 [==============================] - 42s 335ms/step - loss: 0.4031 - acc: 0.8863 - val_loss: 4.0221 - val_acc: 0.5374\n",
            "Epoch 37/40\n",
            "125/125 [==============================] - 44s 350ms/step - loss: 0.3772 - acc: 0.8930 - val_loss: 4.0338 - val_acc: 0.5397\n",
            "Epoch 38/40\n",
            "125/125 [==============================] - 45s 358ms/step - loss: 0.3592 - acc: 0.8930 - val_loss: 4.0342 - val_acc: 0.5377\n",
            "Epoch 39/40\n",
            "125/125 [==============================] - 41s 330ms/step - loss: 0.3477 - acc: 0.8962 - val_loss: 4.0509 - val_acc: 0.5384\n",
            "Epoch 40/40\n",
            "125/125 [==============================] - 42s 336ms/step - loss: 0.3292 - acc: 0.8974 - val_loss: 4.0954 - val_acc: 0.5372\n"
          ],
          "name": "stdout"
        }
      ]
    },
    {
      "cell_type": "code",
      "metadata": {
        "colab": {
          "base_uri": "https://localhost:8080/",
          "height": 513
        },
        "id": "Vdbhe7FGvkL0",
        "outputId": "6e046453-4e16-42da-b122-9e41264e0051"
      },
      "source": [
        "# plot some data\n",
        "plt.plot(r.history['loss'], label='loss')\n",
        "plt.plot(r.history['val_loss'], label='val_loss')\n",
        "plt.legend()\n",
        "plt.show()\n",
        "\n",
        "# accuracies\n",
        "plt.plot(r.history['acc'], label='acc')\n",
        "plt.plot(r.history['val_acc'], label='val_acc')\n",
        "plt.legend()\n",
        "plt.show()\n",
        "\n",
        "# Save model\n",
        "model.save('s2s.h5')"
      ],
      "execution_count": 23,
      "outputs": [
        {
          "output_type": "display_data",
          "data": {
            "image/png": "[encoded data removed]",
            "text/plain": [
              "<Figure size 432x288 with 1 Axes>"
            ]
          },
          "metadata": {
            "tags": [],
            "needs_background": "light"
          }
        },
        {
          "output_type": "display_data",
          "data": {
            "image/png": "[encoded data removed]",
            "text/plain": [
              "<Figure size 432x288 with 1 Axes>"
            ]
          },
          "metadata": {
            "tags": [],
            "needs_background": "light"
          }
        }
      ]
    },
    {
      "cell_type": "code",
      "metadata": {
        "id": "OKfEuB-0vtJZ"
      },
      "source": [
        "\n",
        "##### Make predictions #####\n",
        "# As with the poetry example, we need to create another model\n",
        "# that can take in the RNN state and previous word as input\n",
        "# and accept a T=1 sequence.\n",
        "\n",
        "# The encoder will be stand-alone\n",
        "# From this we will get our initial decoder hidden state\n",
        "encoder_model = Model(encoder_inputs_placeholder, encoder_states)\n",
        "\n",
        "decoder_state_input_h = Input(shape=(LATENT_DIM,))\n",
        "decoder_state_input_c = Input(shape=(LATENT_DIM,))\n",
        "decoder_states_inputs = [decoder_state_input_h, decoder_state_input_c]\n",
        "# decoder_states_inputs = [decoder_state_input_h] # gru\n",
        "\n",
        "decoder_inputs_single = Input(shape=(1,))\n",
        "decoder_inputs_single_x = decoder_embedding(decoder_inputs_single)\n",
        "\n",
        "# this time, we want to keep the states too, to be output\n",
        "# by our sampling model\n",
        "decoder_outputs, h, c = decoder_lstm(\n",
        "  decoder_inputs_single_x,\n",
        "  initial_state=decoder_states_inputs\n",
        ")\n",
        "# decoder_outputs, state_h = decoder_lstm(\n",
        "#   decoder_inputs_single_x,\n",
        "#   initial_state=decoder_states_inputs\n",
        "# ) #gru\n",
        "decoder_states = [h, c]\n",
        "# decoder_states = [h] # gru\n",
        "decoder_outputs = decoder_dense(decoder_outputs)\n",
        "\n",
        "# The sampling model\n",
        "# inputs: y(t-1), h(t-1), c(t-1)\n",
        "# outputs: y(t), h(t), c(t)\n",
        "decoder_model = Model(\n",
        "  [decoder_inputs_single] + decoder_states_inputs, \n",
        "  [decoder_outputs] + decoder_states\n",
        ")\n",
        "\n",
        "# map indexes back into real words\n",
        "# so we can view the results\n",
        "idx2word_eng = {v:k for k, v in word2idx_inputs.items()}\n",
        "idx2word_trans = {v:k for k, v in word2idx_outputs.items()}"
      ],
      "execution_count": 24,
      "outputs": []
    },
    {
      "cell_type": "code",
      "metadata": {
        "id": "FqqnHIbqvw4q"
      },
      "source": [
        "\n",
        "def decode_sequence(input_seq):\n",
        "  # Encode the input as state vectors.\n",
        "  states_value = encoder_model.predict(input_seq)\n",
        "\n",
        "  # Generate empty target sequence of length 1.\n",
        "  target_seq = np.zeros((1, 1))\n",
        "\n",
        "  # Populate the first character of target sequence with the start character.\n",
        "  # NOTE: tokenizer lower-cases all words\n",
        "  target_seq[0, 0] = word2idx_outputs['<sos>']\n",
        "\n",
        "  # if we get this we break\n",
        "  eos = word2idx_outputs['<eos>']\n",
        "\n",
        "  # Create the translation\n",
        "  output_sentence = []\n",
        "  for _ in range(max_len_target):\n",
        "    \n",
        "    output_tokens, h, c = decoder_model.predict(\n",
        "      [target_seq] + states_value\n",
        "    )\n",
        "    # output_tokens, h = decoder_model.predict(\n",
        "    #     [target_seq] + states_value\n",
        "    # ) # gru\n",
        "\n",
        "    # Get next word\n",
        "    idx = np.argmax(output_tokens[0, 0, :])\n",
        "\n",
        "    # End sentence of EOS\n",
        "    if eos == idx:\n",
        "      break\n",
        "\n",
        "    word = ''\n",
        "    if idx > 0:\n",
        "      word = idx2word_trans[idx]\n",
        "      output_sentence.append(word)\n",
        "\n",
        "    # Update the decoder input\n",
        "    # which is just the word just generated\n",
        "    target_seq[0, 0] = idx\n",
        "\n",
        "    # Update states\n",
        "    states_value = [h, c]\n",
        "    # states_value = [h] # gru\n",
        "\n",
        "  return ' '.join(output_sentence)"
      ],
      "execution_count": 34,
      "outputs": []
    },
    {
      "cell_type": "code",
      "metadata": {
        "colab": {
          "base_uri": "https://localhost:8080/"
        },
        "id": "L63NtRQFv7k0",
        "outputId": "f7bd16db-d009-48d8-81a5-b5e93907dfa5"
      },
      "source": [
        "while True:\n",
        "  # Do some test translations\n",
        "  i = np.random.choice(len(input_texts))\n",
        "  input_seq = encoder_inputs[i:i+1]\n",
        "  translation = decode_sequence(input_seq)\n",
        "  print('-')\n",
        "  print('Input:', input_texts[i])\n",
        "  print('Translation:', translation)\n",
        "\n",
        "  ans = input(\"Continue? [Y/n]\")\n",
        "  if ans and ans.lower().startswith('n'):\n",
        "    break"
      ],
      "execution_count": 35,
      "outputs": [
        {
          "output_type": "stream",
          "text": [
            "-\n",
            "Input: You know me.\n",
            "Translation: du kennst mich.\n",
            "Continue? [Y/n]\n",
            "-\n",
            "Input: Did you call?\n",
            "Translation: hast du gerufen?\n",
            "Continue? [Y/n]\n",
            "-\n",
            "Input: I'll talk.\n",
            "Translation: ich werde reden.\n",
            "Continue? [Y/n]n\n"
          ],
          "name": "stdout"
        }
      ]
    }
  ]
}