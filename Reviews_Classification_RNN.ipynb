{
  "nbformat": 4,
  "nbformat_minor": 0,
  "metadata": {
    "colab": {
      "name": "Reviews_Classification_RNN.ipynb",
      "provenance": [],
      "collapsed_sections": [],
      "include_colab_link": true
    },
    "kernelspec": {
      "name": "python3",
      "display_name": "Python 3"
    },
    "accelerator": "GPU"
  },
  "cells": [
    {
      "cell_type": "markdown",
      "metadata": {
        "id": "view-in-github",
        "colab_type": "text"
      },
      "source": [
        "<a href=\"https://colab.research.google.com/github/pacificblue/Data-Science-Hands-on-Projects/blob/main/Reviews_Classification_RNN.ipynb\" target=\"_parent\"><img src=\"https://colab.research.google.com/assets/colab-badge.svg\" alt=\"Open In Colab\"/></a>"
      ]
    },
    {
      "cell_type": "markdown",
      "metadata": {
        "id": "jmf9ZcREVEvb"
      },
      "source": [
        "### Unbalanced Dataset: \n",
        "Either using down-sampling of the major class or adjusting the category_threshhold. Here the second method is used.\n",
        "\n",
        "### Hyperparameter fine-tuning and Grid-Search: \n",
        "did manually here but can be automated, reference this solution: https://medium.com/ml-book/neural-networks-hyperparameter-tuning-in-tensorflow-2-0-a7b4e2b574a1\n",
        "\n",
        "Hyperparameters in this project:\n",
        "\n",
        "//Vocabulary size:\n",
        "\n",
        "MAX_VOCAB_SIZE = 20000\n",
        "\n",
        "//Embedding dimensionality:\n",
        "\n",
        "D = 30\n",
        "\n",
        "//Hidden state dimensionality:\n",
        "\n",
        "M = 10\n",
        "\n",
        "//Dropout rate\n",
        "\n",
        "dropout_rate = 0.5\n",
        "\n",
        "//Optimizer\n",
        "\n",
        "optimizer='adam'\n",
        "\n",
        "//Category_threthold\n",
        "\n",
        "category_threthold = 0.5\n",
        "\n",
        "### Size of Training dataset:\n",
        "Here only used 10% of all data to save the train time.\n",
        "\n",
        "\n"
      ]
    },
    {
      "cell_type": "code",
      "metadata": {
        "id": "s79dUAcR6y8f",
        "colab": {
          "base_uri": "https://localhost:8080/"
        },
        "outputId": "6a3d8f26-2c9d-465c-f57e-9fdb4db355a5"
      },
      "source": [
        "# Install TensorFlow\n",
        "# !pip install -q tensorflow-gpu==2.0.0-beta1\n",
        "\n",
        "try:\n",
        "  %tensorflow_version 2.x  # Colab only.\n",
        "except Exception:\n",
        "  pass\n",
        "\n",
        "import tensorflow as tf\n",
        "print(tf.__version__)"
      ],
      "execution_count": null,
      "outputs": [
        {
          "output_type": "stream",
          "text": [
            "`%tensorflow_version` only switches the major version: 1.x or 2.x.\n",
            "You set: `2.x  # Colab only.`. This will be interpreted as: `2.x`.\n",
            "\n",
            "\n",
            "TensorFlow 2.x selected.\n",
            "2.4.1\n"
          ],
          "name": "stdout"
        }
      ]
    },
    {
      "cell_type": "code",
      "metadata": {
        "id": "7ZjhmiCi66lb"
      },
      "source": [
        "import numpy as np\n",
        "import pandas as pd\n",
        "import matplotlib.pyplot as plt\n",
        "from sklearn.model_selection import train_test_split\n",
        "\n",
        "from tensorflow.keras.preprocessing.text import Tokenizer\n",
        "from tensorflow.keras.preprocessing.sequence import pad_sequences\n",
        "from tensorflow.keras.layers import Dense, Input, GlobalMaxPooling1D, GRU, SimpleRNN, Embedding, Dropout\n",
        "from tensorflow.keras.models import Model"
      ],
      "execution_count": null,
      "outputs": []
    },
    {
      "cell_type": "code",
      "metadata": {
        "id": "9xO1vjh1L_xm",
        "colab": {
          "base_uri": "https://localhost:8080/"
        },
        "outputId": "f7272f7c-7e24-457c-c4fd-9dd4d80294f8"
      },
      "source": [
        "!head review_data_with_labels.csv"
      ],
      "execution_count": null,
      "outputs": [
        {
          "output_type": "stream",
          "text": [
            "review,label\n",
            "\"I had to click one star--that's all it's worth.  This item is a definite knock off--I brought it to Sephora where I always purchase my They're Real Mascara, and the sales person agreed it was definitely not the same mascara.  I wouldn't use anything on my eyes that is questionable, at best, so I'm throwing this out and contacting the seller requesting a refund.\",0\n",
            "\"I tried to use this to take foundation with me during travel.  I thought it would be so much more hygienic than a little pot container and smaller than taking a full bottle.  While it was easy to fill, nothing would be dispensed!  I do not use a thick foundation - it is liquid.  Nothing would come out of the bottle and you can't re-open it to even try to get the foundation back.  Disappointed.\",0\n",
            "\"This plate is a cheap knockoff. It took forever to arrive (came from China apparently, so that explains it). When I got it, I was so excited but started to get concerned when I looked at it more closely. The design plate does not have the signature Konad backing to the plate, was not in the Konad brand packaging but some generic packaging, and the plate had scratches on it. The plate does not stamp correctly, especially the zebra print, and upon further investigation is clearly a fraud. The &#34;M57&#34; is written with a capital &#34;M&#34; on this plate, which is incorrect on the true Konad plates. The real Konad plates have a lower case &#34;m&#34;. Upon contacting the company, they requested photos and still claim that this cheap knockoff is in fact real. DO NOT BUY!!!\",0\n",
            "\"I truly wanted something easy and was worried about how I would decide between this amazing product and my shiseido balancing foundation, which is awesome but sometimes looks cakey on me. I received a sample of this in a magazine this week and was happy to smooth it all over my face and see how it did, though I was initially reluctant because I'm so fair skinned and anything that works for both light and medium skin is usually way too dark for me.<br /><br />However, as this oxidized it was a little dark, but it actually just toasted my skin a bit and looked radiant.<br /><br />Until the next day when I had four of the biggest whiteheads I've ever seen. In less than 12 hours they popped up and I haven't had whiteheads in 10 years.<br /><br />Decision made. That was easy.\",0\n",
            "\"When I saw this headband in the picture I thought it looked very nice.  When I received the headband it was black and the sequence on top of the headband make the whole thing look very cheap.  While it is a comfy headband, I will not wear it.  It looks too child-like.\",0\n",
            "BURNED MY SKIN and made it turn bright red in about 3 mins. I had to run to the shower and stay in for at least 30 mins for the pain swelling and redness to go away. After about 2 hours the feeling of a sunburn went away. I would have loved to take pics and sued this damned company.,0\n",
            "\"I am a Christian and I say this movie had terrible acting, unreal situations and a completely facade front for Christianity. You might as well watch \"\"Remember the Titans\"\" and at least not mix Christ in a football film like a formulaic steroid for losers. Let me make some really pressing comments of what bothered me in this film.<br /><br />1. The school was in Georgia and was a white academy school. I did not notice a single black student or player in the school. I deal with the White \"\"Christian\"\" Academies in the south and they were built for no other reason than to reestablish segregation. This is troubling when the movie is about Christianity and Christ changing lives...how about changing the hearts of segregation? (note: I loved the token black coach; like it made up for the entirely white team and all the black 'Giants' players.) <br /><br />2. The uncritical acclaim by everyone Christian about this movie. Can I get a couple people to say that it was bad acting, bad filming, bad writing and in short poor compared to other movies. If we were to compare this to another football movie, would it have the same charisma and energy? <br /><br />3. The half-baked Christianity which was shown made even less sense to me than the unrealistic ending. If Christianity is about simply reading a little scripture and praying to begin a complete life change, then don't wonder when no one will listen to what Christians have to say. We want to sell Christ as a cure-all. He doesn't need sold and He doesn't need to be attached to such whimsical lifestyles. No wonder everyone considers Christianity to be anti-intellectual with this unreal presentation.<br /><br />I recognize this film may be inspirational to a few people. To most, it will not be. It will not give a real picture of struggle and heartfelt tension. Most importantly to me, it is not Christian by any means or stretch. It has values but it falls short as a 'pull-yourself-up-by-the-bootstraps' message as shallow as positive thinking. If you live alongside people who struggle and/or those in third world living conditions, this movie will be hollow as most churches are today in their religion.\",0\n",
            "\"I don't know WHY Clairol changed a good thing. I used to get compliments on my color and how shiny my hair was.<br />Not any more. They changed the formula.  Now it is a fakey looking color that starts to fade almost immediately, and leaves my hair dull looking.  When applying, the color is PURPLE!!!!! OMG. It just isn't the same good haircolor. anymore.<br />Very very disappointed, Clairol!!!!  WhY did you ruin a good thing.  Will use some other product now. Thumbs DOWN.\",0\n",
            "\"Think I've had for a year, and just stopped working a week ago. The thing would still close and look like it was curling, but it wasn't even gripping my eyelashes. Loved it up until then.\",0\n"
          ],
          "name": "stdout"
        }
      ]
    },
    {
      "cell_type": "code",
      "metadata": {
        "id": "v8n6bAG_YiCu"
      },
      "source": [
        "df = pd.read_csv(\"review_data_with_labels.csv\", encoding='latin-1')"
      ],
      "execution_count": null,
      "outputs": []
    },
    {
      "cell_type": "code",
      "metadata": {
        "id": "OliYFF7F9Rx9",
        "colab": {
          "base_uri": "https://localhost:8080/",
          "height": 204
        },
        "outputId": "fabb46ef-2587-44d7-e648-614ed01ba4ee"
      },
      "source": [
        "df.tail()"
      ],
      "execution_count": null,
      "outputs": [
        {
          "output_type": "execute_result",
          "data": {
            "text/html": [
              "<div>\n",
              "<style scoped>\n",
              "    .dataframe tbody tr th:only-of-type {\n",
              "        vertical-align: middle;\n",
              "    }\n",
              "\n",
              "    .dataframe tbody tr th {\n",
              "        vertical-align: top;\n",
              "    }\n",
              "\n",
              "    .dataframe thead th {\n",
              "        text-align: right;\n",
              "    }\n",
              "</style>\n",
              "<table border=\"1\" class=\"dataframe\">\n",
              "  <thead>\n",
              "    <tr style=\"text-align: right;\">\n",
              "      <th></th>\n",
              "      <th>review</th>\n",
              "      <th>label</th>\n",
              "    </tr>\n",
              "  </thead>\n",
              "  <tbody>\n",
              "    <tr>\n",
              "      <th>241994</th>\n",
              "      <td>Some reviews said it didn't feel oily? Invisib...</td>\n",
              "      <td>0</td>\n",
              "    </tr>\n",
              "    <tr>\n",
              "      <th>241995</th>\n",
              "      <td>It is very hard to keep on. I have tried about...</td>\n",
              "      <td>0</td>\n",
              "    </tr>\n",
              "    <tr>\n",
              "      <th>241996</th>\n",
              "      <td>If it had been made 2 years later it would hav...</td>\n",
              "      <td>1</td>\n",
              "    </tr>\n",
              "    <tr>\n",
              "      <th>241997</th>\n",
              "      <td>I have been using a friends old Gillette doubl...</td>\n",
              "      <td>0</td>\n",
              "    </tr>\n",
              "    <tr>\n",
              "      <th>241998</th>\n",
              "      <td>No good.. I try this facial massager and it's ...</td>\n",
              "      <td>0</td>\n",
              "    </tr>\n",
              "  </tbody>\n",
              "</table>\n",
              "</div>"
            ],
            "text/plain": [
              "                                                   review  label\n",
              "241994  Some reviews said it didn't feel oily? Invisib...      0\n",
              "241995  It is very hard to keep on. I have tried about...      0\n",
              "241996  If it had been made 2 years later it would hav...      1\n",
              "241997  I have been using a friends old Gillette doubl...      0\n",
              "241998  No good.. I try this facial massager and it's ...      0"
            ]
          },
          "metadata": {
            "tags": []
          },
          "execution_count": 42
        }
      ]
    },
    {
      "cell_type": "code",
      "metadata": {
        "colab": {
          "base_uri": "https://localhost:8080/",
          "height": 298
        },
        "id": "05vLSNdIf5Yn",
        "outputId": "df313d44-851f-458b-fbde-1488e43ab959"
      },
      "source": [
        "df.label.plot(kind=\"hist\", title=\"Target Distribution\")"
      ],
      "execution_count": null,
      "outputs": [
        {
          "output_type": "execute_result",
          "data": {
            "text/plain": [
              "<matplotlib.axes._subplots.AxesSubplot at 0x7fc461388550>"
            ]
          },
          "metadata": {
            "tags": []
          },
          "execution_count": 6
        },
        {
          "output_type": "display_data",
          "data": {
            "image/png": "[encoded data removed]",
            "text/plain": [
              "<Figure size 432x288 with 1 Axes>"
            ]
          },
          "metadata": {
            "tags": [],
            "needs_background": "light"
          }
        }
      ]
    },
    {
      "cell_type": "code",
      "metadata": {
        "id": "tKJU_DZU91bc",
        "colab": {
          "base_uri": "https://localhost:8080/"
        },
        "outputId": "a7d90bb7-4898-4cc2-925d-dbda7c37a1de"
      },
      "source": [
        "# split up the data\n",
        "df_train, df_remain, Ytrain, Yremain = train_test_split(df['review'], df['label'], train_size=0.1, random_state=42, stratify=df.label.values)\n",
        "df_test, _, Ytest, _ = train_test_split(df_remain, Yremain, train_size=0.05, random_state=42, stratify=Yremain.values)\n",
        "df_train.shape, Ytrain.shape, df_test.shape, Ytest.shape"
      ],
      "execution_count": null,
      "outputs": [
        {
          "output_type": "execute_result",
          "data": {
            "text/plain": [
              "((24199,), (24199,), (10890,), (10890,))"
            ]
          },
          "metadata": {
            "tags": []
          },
          "execution_count": 7
        }
      ]
    },
    {
      "cell_type": "code",
      "metadata": {
        "id": "WIOc5vxr9_iJ"
      },
      "source": [
        "# Convert sentences to sequences\n",
        "MAX_VOCAB_SIZE = 20000\n",
        "tokenizer = Tokenizer(num_words=MAX_VOCAB_SIZE)\n",
        "tokenizer.fit_on_texts(df_train)\n",
        "sequences_train = tokenizer.texts_to_sequences(df_train)\n",
        "sequences_test = tokenizer.texts_to_sequences(df_test)"
      ],
      "execution_count": null,
      "outputs": []
    },
    {
      "cell_type": "code",
      "metadata": {
        "colab": {
          "base_uri": "https://localhost:8080/"
        },
        "id": "xip-9bqyGElW",
        "outputId": "b116eda4-fe3b-45c2-df07-5bf372f1d5b6"
      },
      "source": [
        "sequences_train[0]"
      ],
      "execution_count": null,
      "outputs": [
        {
          "output_type": "execute_result",
          "data": {
            "text/plain": [
              "[4,\n",
              " 108,\n",
              " 382,\n",
              " 10494,\n",
              " 4,\n",
              " 289,\n",
              " 490,\n",
              " 31,\n",
              " 30,\n",
              " 24,\n",
              " 2,\n",
              " 787,\n",
              " 4,\n",
              " 200,\n",
              " 21,\n",
              " 4,\n",
              " 16,\n",
              " 363,\n",
              " 14,\n",
              " 328,\n",
              " 1059,\n",
              " 34,\n",
              " 191,\n",
              " 10,\n",
              " 4,\n",
              " 2,\n",
              " 301,\n",
              " 26,\n",
              " 2,\n",
              " 16,\n",
              " 163,\n",
              " 2454,\n",
              " 5165]"
            ]
          },
          "metadata": {
            "tags": []
          },
          "execution_count": 9
        }
      ]
    },
    {
      "cell_type": "code",
      "metadata": {
        "id": "Zjyf7BGE-QZN",
        "colab": {
          "base_uri": "https://localhost:8080/"
        },
        "outputId": "ca8d58a6-5323-4724-f86d-861a1461827c"
      },
      "source": [
        "# get word -> integer mapping\n",
        "word2idx = tokenizer.word_index\n",
        "V = len(word2idx)\n",
        "print('Found %s unique tokens.' % V)"
      ],
      "execution_count": null,
      "outputs": [
        {
          "output_type": "stream",
          "text": [
            "Found 54252 unique tokens.\n"
          ],
          "name": "stdout"
        }
      ]
    },
    {
      "cell_type": "code",
      "metadata": {
        "id": "NP1W8Cf9-cPo",
        "colab": {
          "base_uri": "https://localhost:8080/"
        },
        "outputId": "f7c2b40d-bdc8-415d-a654-11d4f33ae5a9"
      },
      "source": [
        "# pad sequences so that we get a N x T matrix\n",
        "data_train = pad_sequences(sequences_train)\n",
        "print('Shape of data train tensor:', data_train.shape)\n",
        "\n",
        "# get sequence length\n",
        "T = data_train.shape[1]"
      ],
      "execution_count": null,
      "outputs": [
        {
          "output_type": "stream",
          "text": [
            "Shape of data train tensor: (24199, 3382)\n"
          ],
          "name": "stdout"
        }
      ]
    },
    {
      "cell_type": "code",
      "metadata": {
        "colab": {
          "base_uri": "https://localhost:8080/"
        },
        "id": "EDqz3ocUFuhv",
        "outputId": "860529dd-deac-4246-c369-843881df935a"
      },
      "source": [
        "word2idx"
      ],
      "execution_count": null,
      "outputs": [
        {
          "output_type": "execute_result",
          "data": {
            "text/plain": [
              "{'the': 1,\n",
              " 'i': 2,\n",
              " 'and': 3,\n",
              " 'it': 4,\n",
              " 'to': 5,\n",
              " 'a': 6,\n",
              " 'of': 7,\n",
              " 'this': 8,\n",
              " 'is': 9,\n",
              " 'in': 10,\n",
              " 'br': 11,\n",
              " 'that': 12,\n",
              " 'for': 13,\n",
              " 'my': 14,\n",
              " 'not': 15,\n",
              " 'was': 16,\n",
              " 'but': 17,\n",
              " 'on': 18,\n",
              " 'with': 19,\n",
              " 'have': 20,\n",
              " 'as': 21,\n",
              " 'you': 22,\n",
              " 'product': 23,\n",
              " 'so': 24,\n",
              " 'be': 25,\n",
              " 'like': 26,\n",
              " 'one': 27,\n",
              " 'are': 28,\n",
              " 'they': 29,\n",
              " 'all': 30,\n",
              " 'at': 31,\n",
              " 'hair': 32,\n",
              " 'if': 33,\n",
              " 'from': 34,\n",
              " 'very': 35,\n",
              " 'just': 36,\n",
              " 'had': 37,\n",
              " 'out': 38,\n",
              " 'would': 39,\n",
              " 'or': 40,\n",
              " 'me': 41,\n",
              " 'when': 42,\n",
              " 'no': 43,\n",
              " 'an': 44,\n",
              " \"it's\": 45,\n",
              " 'after': 46,\n",
              " 'get': 47,\n",
              " 'will': 48,\n",
              " 'what': 49,\n",
              " 'up': 50,\n",
              " 'use': 51,\n",
              " 'has': 52,\n",
              " 'do': 53,\n",
              " 'good': 54,\n",
              " 'time': 55,\n",
              " 'more': 56,\n",
              " 'about': 57,\n",
              " 'movie': 58,\n",
              " 'even': 59,\n",
              " 'your': 60,\n",
              " 'by': 61,\n",
              " 'film': 62,\n",
              " 'because': 63,\n",
              " 'only': 64,\n",
              " \"don't\": 65,\n",
              " 'there': 66,\n",
              " 'used': 67,\n",
              " 'really': 68,\n",
              " 'did': 69,\n",
              " 'them': 70,\n",
              " 'his': 71,\n",
              " 'than': 72,\n",
              " 'some': 73,\n",
              " 'can': 74,\n",
              " 'which': 75,\n",
              " 'he': 76,\n",
              " 'been': 77,\n",
              " 'much': 78,\n",
              " 'well': 79,\n",
              " 'skin': 80,\n",
              " 'other': 81,\n",
              " 'also': 82,\n",
              " 'off': 83,\n",
              " 'first': 84,\n",
              " 'work': 85,\n",
              " 'who': 86,\n",
              " 'does': 87,\n",
              " 'using': 88,\n",
              " 'were': 89,\n",
              " 'too': 90,\n",
              " 'these': 91,\n",
              " \"i'm\": 92,\n",
              " 'am': 93,\n",
              " 'any': 94,\n",
              " 'back': 95,\n",
              " 'then': 96,\n",
              " 'great': 97,\n",
              " '34': 98,\n",
              " \"didn't\": 99,\n",
              " 'again': 100,\n",
              " 'now': 101,\n",
              " 'money': 102,\n",
              " 'see': 103,\n",
              " 'their': 104,\n",
              " 'never': 105,\n",
              " 'buy': 106,\n",
              " 'bought': 107,\n",
              " 'made': 108,\n",
              " 'over': 109,\n",
              " 'could': 110,\n",
              " 'how': 111,\n",
              " 'her': 112,\n",
              " 'got': 113,\n",
              " 'way': 114,\n",
              " 'better': 115,\n",
              " 'make': 116,\n",
              " 'two': 117,\n",
              " 'still': 118,\n",
              " 'its': 119,\n",
              " 'before': 120,\n",
              " \"doesn't\": 121,\n",
              " 'same': 122,\n",
              " \"i've\": 123,\n",
              " 'know': 124,\n",
              " 'years': 125,\n",
              " 'bad': 126,\n",
              " 'she': 127,\n",
              " '2': 128,\n",
              " 'think': 129,\n",
              " 'little': 130,\n",
              " 'we': 131,\n",
              " 'smell': 132,\n",
              " 'tried': 133,\n",
              " 'into': 134,\n",
              " 'face': 135,\n",
              " 'try': 136,\n",
              " 'color': 137,\n",
              " 'thought': 138,\n",
              " 'many': 139,\n",
              " 'something': 140,\n",
              " 'people': 141,\n",
              " 'amazon': 142,\n",
              " 'new': 143,\n",
              " 'go': 144,\n",
              " 'look': 145,\n",
              " 'day': 146,\n",
              " 'love': 147,\n",
              " 'another': 148,\n",
              " 'few': 149,\n",
              " 'old': 150,\n",
              " 'long': 151,\n",
              " 'most': 152,\n",
              " 'should': 153,\n",
              " 'since': 154,\n",
              " 'products': 155,\n",
              " 'thing': 156,\n",
              " 'bottle': 157,\n",
              " 'disappointed': 158,\n",
              " 'while': 159,\n",
              " '3': 160,\n",
              " 'however': 161,\n",
              " 'find': 162,\n",
              " 'going': 163,\n",
              " 'reviews': 164,\n",
              " 'ever': 165,\n",
              " 'say': 166,\n",
              " 'nothing': 167,\n",
              " 'want': 168,\n",
              " 'different': 169,\n",
              " 'give': 170,\n",
              " 'put': 171,\n",
              " \"can't\": 172,\n",
              " 'where': 173,\n",
              " 'last': 174,\n",
              " 'story': 175,\n",
              " 'actually': 176,\n",
              " 'dry': 177,\n",
              " 'being': 178,\n",
              " 'feel': 179,\n",
              " 'recommend': 180,\n",
              " 'brush': 181,\n",
              " 'sure': 182,\n",
              " 'every': 183,\n",
              " 'down': 184,\n",
              " 'purchased': 185,\n",
              " '1': 186,\n",
              " 'times': 187,\n",
              " 'return': 188,\n",
              " 'waste': 189,\n",
              " 'though': 190,\n",
              " 'looking': 191,\n",
              " 'why': 192,\n",
              " 'received': 193,\n",
              " 'through': 194,\n",
              " 'best': 195,\n",
              " 'enough': 196,\n",
              " 'lot': 197,\n",
              " 'price': 198,\n",
              " 'right': 199,\n",
              " 'away': 200,\n",
              " 'here': 201,\n",
              " 'makes': 202,\n",
              " 'days': 203,\n",
              " 'hard': 204,\n",
              " 'real': 205,\n",
              " '10': 206,\n",
              " 'may': 207,\n",
              " 'him': 208,\n",
              " 'found': 209,\n",
              " 'worth': 210,\n",
              " 'pretty': 211,\n",
              " '5': 212,\n",
              " 'quality': 213,\n",
              " 'maybe': 214,\n",
              " 'anything': 215,\n",
              " 'year': 216,\n",
              " 'take': 217,\n",
              " 'oil': 218,\n",
              " 'purchase': 219,\n",
              " 'ordered': 220,\n",
              " 'around': 221,\n",
              " 'such': 222,\n",
              " 'almost': 223,\n",
              " 'works': 224,\n",
              " 'without': 225,\n",
              " 'end': 226,\n",
              " 'item': 227,\n",
              " 'small': 228,\n",
              " 'seen': 229,\n",
              " 'came': 230,\n",
              " 'months': 231,\n",
              " 'those': 232,\n",
              " 'need': 233,\n",
              " 'said': 234,\n",
              " 'nice': 235,\n",
              " 'once': 236,\n",
              " 'seems': 237,\n",
              " 'bit': 238,\n",
              " 'trying': 239,\n",
              " 'order': 240,\n",
              " 'problem': 241,\n",
              " 'wanted': 242,\n",
              " 'version': 243,\n",
              " 'looks': 244,\n",
              " 'both': 245,\n",
              " 'minutes': 246,\n",
              " '4': 247,\n",
              " 'life': 248,\n",
              " 'fine': 249,\n",
              " 'less': 250,\n",
              " 'left': 251,\n",
              " 'big': 252,\n",
              " 'shampoo': 253,\n",
              " 'cheap': 254,\n",
              " 'stuff': 255,\n",
              " \"that's\": 256,\n",
              " 'getting': 257,\n",
              " 'went': 258,\n",
              " 'show': 259,\n",
              " 'read': 260,\n",
              " 'original': 261,\n",
              " 'part': 262,\n",
              " 'always': 263,\n",
              " 'come': 264,\n",
              " 'keep': 265,\n",
              " 'head': 266,\n",
              " 'weeks': 267,\n",
              " 'least': 268,\n",
              " 'instead': 269,\n",
              " 'smells': 270,\n",
              " 'light': 271,\n",
              " 'help': 272,\n",
              " 'cream': 273,\n",
              " 'far': 274,\n",
              " \"isn't\": 275,\n",
              " 'started': 276,\n",
              " 'movies': 277,\n",
              " 'top': 278,\n",
              " 'probably': 279,\n",
              " 'might': 280,\n",
              " 'company': 281,\n",
              " \"won't\": 282,\n",
              " 'worked': 283,\n",
              " 'scent': 284,\n",
              " 'took': 285,\n",
              " 'box': 286,\n",
              " 'until': 287,\n",
              " 'water': 288,\n",
              " \"wasn't\": 289,\n",
              " 'looked': 290,\n",
              " 'several': 291,\n",
              " 'watch': 292,\n",
              " 'three': 293,\n",
              " 'must': 294,\n",
              " 'review': 295,\n",
              " 'razor': 296,\n",
              " 'characters': 297,\n",
              " 'things': 298,\n",
              " 'films': 299,\n",
              " 'having': 300,\n",
              " 'felt': 301,\n",
              " 'either': 302,\n",
              " 'each': 303,\n",
              " 'anyone': 304,\n",
              " 'second': 305,\n",
              " 'quite': 306,\n",
              " 'saw': 307,\n",
              " 'gave': 308,\n",
              " 'half': 309,\n",
              " 'line': 310,\n",
              " 'character': 311,\n",
              " 'definitely': 312,\n",
              " 'next': 313,\n",
              " 'store': 314,\n",
              " 'buying': 315,\n",
              " 'set': 316,\n",
              " 'completely': 317,\n",
              " 'results': 318,\n",
              " 'kind': 319,\n",
              " 'week': 320,\n",
              " 'fact': 321,\n",
              " 'shave': 322,\n",
              " 'man': 323,\n",
              " 'seller': 324,\n",
              " 'red': 325,\n",
              " 'done': 326,\n",
              " 'own': 327,\n",
              " 'eyes': 328,\n",
              " 'longer': 329,\n",
              " 'full': 330,\n",
              " 'worst': 331,\n",
              " 'yet': 332,\n",
              " 'job': 333,\n",
              " 'us': 334,\n",
              " 'high': 335,\n",
              " 'brand': 336,\n",
              " 'white': 337,\n",
              " 'wrong': 338,\n",
              " 'point': 339,\n",
              " 'under': 340,\n",
              " \"wouldn't\": 341,\n",
              " 'unfortunately': 342,\n",
              " 'acting': 343,\n",
              " 'black': 344,\n",
              " 'else': 345,\n",
              " 'star': 346,\n",
              " 'thick': 347,\n",
              " 'guess': 348,\n",
              " 'free': 349,\n",
              " 'cut': 350,\n",
              " 'dark': 351,\n",
              " 'believe': 352,\n",
              " 'picture': 353,\n",
              " 'plastic': 354,\n",
              " 'gets': 355,\n",
              " 'someone': 356,\n",
              " 'comes': 357,\n",
              " 'natural': 358,\n",
              " 'stars': 359,\n",
              " \"i'd\": 360,\n",
              " 'later': 361,\n",
              " 'between': 362,\n",
              " 'making': 363,\n",
              " 'hours': 364,\n",
              " 'plot': 365,\n",
              " 'pay': 366,\n",
              " 'whole': 367,\n",
              " 'place': 368,\n",
              " 'couple': 369,\n",
              " 'able': 370,\n",
              " 'ago': 371,\n",
              " 'conditioner': 372,\n",
              " 'lotion': 373,\n",
              " 'rather': 374,\n",
              " 'strong': 375,\n",
              " 'month': 376,\n",
              " 'decided': 377,\n",
              " 'horrible': 378,\n",
              " 'quicken': 379,\n",
              " \"i'll\": 380,\n",
              " 'reason': 381,\n",
              " 'everything': 382,\n",
              " 'worse': 383,\n",
              " 'although': 384,\n",
              " 'body': 385,\n",
              " 'software': 386,\n",
              " 'wish': 387,\n",
              " \"couldn't\": 388,\n",
              " 'eye': 389,\n",
              " 'our': 390,\n",
              " 'hold': 391,\n",
              " 'working': 392,\n",
              " 'terrible': 393,\n",
              " 'seem': 394,\n",
              " 'clean': 395,\n",
              " 'takes': 396,\n",
              " 'let': 397,\n",
              " 'scenes': 398,\n",
              " 'soap': 399,\n",
              " 'night': 400,\n",
              " 'especially': 401,\n",
              " 'scene': 402,\n",
              " 'cannot': 403,\n",
              " 'short': 404,\n",
              " 'others': 405,\n",
              " 'close': 406,\n",
              " 'already': 407,\n",
              " 'tell': 408,\n",
              " 'happy': 409,\n",
              " 'refund': 410,\n",
              " 'ingredients': 411,\n",
              " 'finally': 412,\n",
              " \"you're\": 413,\n",
              " 'sent': 414,\n",
              " 'sensitive': 415,\n",
              " 'experience': 416,\n",
              " 'case': 417,\n",
              " 'size': 418,\n",
              " 'expensive': 419,\n",
              " 'extremely': 420,\n",
              " 'teeth': 421,\n",
              " 'side': 422,\n",
              " 'noticed': 423,\n",
              " 'past': 424,\n",
              " '6': 425,\n",
              " 'itself': 426,\n",
              " 'hand': 427,\n",
              " 'customer': 428,\n",
              " 'change': 429,\n",
              " 'hot': 430,\n",
              " '30': 431,\n",
              " 'polish': 432,\n",
              " 'stay': 433,\n",
              " 'within': 434,\n",
              " 'goes': 435,\n",
              " 'loved': 436,\n",
              " 'difference': 437,\n",
              " 'gel': 438,\n",
              " 'together': 439,\n",
              " 'says': 440,\n",
              " 'told': 441,\n",
              " 'perfume': 442,\n",
              " 'piece': 443,\n",
              " 'idea': 444,\n",
              " 'absolutely': 445,\n",
              " 'awful': 446,\n",
              " 'shaver': 447,\n",
              " 'called': 448,\n",
              " 'save': 449,\n",
              " 'home': 450,\n",
              " 'package': 451,\n",
              " \"there's\": 452,\n",
              " 'nail': 453,\n",
              " 'wash': 454,\n",
              " 'apply': 455,\n",
              " 'care': 456,\n",
              " 'easy': 457,\n",
              " 'ones': 458,\n",
              " 'world': 459,\n",
              " 'broke': 460,\n",
              " 'series': 461,\n",
              " 'please': 462,\n",
              " 'paid': 463,\n",
              " 'ok': 464,\n",
              " 'feels': 465,\n",
              " 'supposed': 466,\n",
              " 'watching': 467,\n",
              " 'seemed': 468,\n",
              " 'stopped': 469,\n",
              " 'poor': 470,\n",
              " 'leave': 471,\n",
              " 'shipping': 472,\n",
              " 'usually': 473,\n",
              " 'during': 474,\n",
              " 'myself': 475,\n",
              " 'hope': 476,\n",
              " 'young': 477,\n",
              " 'funny': 478,\n",
              " 'stick': 479,\n",
              " 'director': 480,\n",
              " 'thin': 481,\n",
              " 'start': 482,\n",
              " 'course': 483,\n",
              " '20': 484,\n",
              " 'feeling': 485,\n",
              " 'name': 486,\n",
              " 'cost': 487,\n",
              " 'liked': 488,\n",
              " 'true': 489,\n",
              " 'clear': 490,\n",
              " 'thinking': 491,\n",
              " 'performance': 492,\n",
              " 'fragrance': 493,\n",
              " '8': 494,\n",
              " 'expected': 495,\n",
              " 'type': 496,\n",
              " 'simply': 497,\n",
              " 'returned': 498,\n",
              " 'amount': 499,\n",
              " 'hoping': 500,\n",
              " 'fake': 501,\n",
              " 'problems': 502,\n",
              " 'doing': 503,\n",
              " 'low': 504,\n",
              " 'actors': 505,\n",
              " 'service': 506,\n",
              " 'shows': 507,\n",
              " 'spray': 508,\n",
              " 'easily': 509,\n",
              " 'blades': 510,\n",
              " 'difficult': 511,\n",
              " 'iron': 512,\n",
              " 'soft': 513,\n",
              " 'shower': 514,\n",
              " 'turn': 515,\n",
              " 'yes': 516,\n",
              " 'wife': 517,\n",
              " 'due': 518,\n",
              " 'replacement': 519,\n",
              " 'everyone': 520,\n",
              " 'horror': 521,\n",
              " 'based': 522,\n",
              " 'cast': 523,\n",
              " 'fit': 524,\n",
              " 'opened': 525,\n",
              " 'makeup': 526,\n",
              " 'totally': 527,\n",
              " 'dryer': 528,\n",
              " 'hour': 529,\n",
              " 'excited': 530,\n",
              " 'action': 531,\n",
              " 'along': 532,\n",
              " 'nails': 533,\n",
              " 'wear': 534,\n",
              " 'arrived': 535,\n",
              " 'excellent': 536,\n",
              " 'turned': 537,\n",
              " 'perfect': 538,\n",
              " 'role': 539,\n",
              " 'brown': 540,\n",
              " 'ended': 541,\n",
              " 'oily': 542,\n",
              " 'brushes': 543,\n",
              " 'family': 544,\n",
              " 'fan': 545,\n",
              " 'etc': 546,\n",
              " 'given': 547,\n",
              " 'stop': 548,\n",
              " 'open': 549,\n",
              " 'super': 550,\n",
              " 'twice': 551,\n",
              " 'unless': 552,\n",
              " 'quickly': 553,\n",
              " 'deal': 554,\n",
              " 'online': 555,\n",
              " 'packaging': 556,\n",
              " 'straight': 557,\n",
              " 'run': 558,\n",
              " 'changed': 559,\n",
              " 'entire': 560,\n",
              " 'today': 561,\n",
              " 'house': 562,\n",
              " 'regular': 563,\n",
              " 'inside': 564,\n",
              " 'leaves': 565,\n",
              " 'screen': 566,\n",
              " 'lost': 567,\n",
              " 'break': 568,\n",
              " 'expect': 569,\n",
              " 'immediately': 570,\n",
              " 'mind': 571,\n",
              " 'needed': 572,\n",
              " 'interesting': 573,\n",
              " 'area': 574,\n",
              " 'fun': 575,\n",
              " 'send': 576,\n",
              " 'perhaps': 577,\n",
              " '7': 578,\n",
              " 'soon': 579,\n",
              " 'charge': 580,\n",
              " 'flat': 581,\n",
              " 'tv': 582,\n",
              " 'remove': 583,\n",
              " 'beautiful': 584,\n",
              " 'person': 585,\n",
              " 'music': 586,\n",
              " 'hands': 587,\n",
              " 'colors': 588,\n",
              " 'battery': 589,\n",
              " 'overall': 590,\n",
              " 'acne': 591,\n",
              " 'plus': 592,\n",
              " 'guy': 593,\n",
              " 'support': 594,\n",
              " 'bottom': 595,\n",
              " 'formula': 596,\n",
              " 'hate': 597,\n",
              " 'often': 598,\n",
              " '15': 599,\n",
              " 'bottles': 600,\n",
              " 'exactly': 601,\n",
              " 'blade': 602,\n",
              " 'wonderful': 603,\n",
              " 'update': 604,\n",
              " 'girl': 605,\n",
              " 'cover': 606,\n",
              " \"haven't\": 607,\n",
              " 'trimmer': 608,\n",
              " 'handle': 609,\n",
              " 'happened': 610,\n",
              " 'live': 611,\n",
              " 'understand': 612,\n",
              " 'fast': 613,\n",
              " 'power': 614,\n",
              " 'rest': 615,\n",
              " 'comedy': 616,\n",
              " 'issue': 617,\n",
              " 'unit': 618,\n",
              " 'program': 619,\n",
              " 'applied': 620,\n",
              " 'mascara': 621,\n",
              " 'woman': 622,\n",
              " 'sense': 623,\n",
              " 'style': 624,\n",
              " 'reading': 625,\n",
              " 'matter': 626,\n",
              " 'amazing': 627,\n",
              " 'similar': 628,\n",
              " 'huge': 629,\n",
              " 'kept': 630,\n",
              " 'gone': 631,\n",
              " 'mine': 632,\n",
              " 'special': 633,\n",
              " 'heat': 634,\n",
              " 'gives': 635,\n",
              " 'effects': 636,\n",
              " 'shaving': 637,\n",
              " 'morning': 638,\n",
              " 'complete': 639,\n",
              " 'seeing': 640,\n",
              " 'anyway': 641,\n",
              " 'wax': 642,\n",
              " 'dead': 643,\n",
              " 'mouth': 644,\n",
              " 'mirror': 645,\n",
              " 'greasy': 646,\n",
              " 'play': 647,\n",
              " 'number': 648,\n",
              " 'spend': 649,\n",
              " 'american': 650,\n",
              " \"he's\": 651,\n",
              " 'normal': 652,\n",
              " 'extra': 653,\n",
              " 'large': 654,\n",
              " 'played': 655,\n",
              " 'blue': 656,\n",
              " 'heavy': 657,\n",
              " 'uses': 658,\n",
              " 'smelled': 659,\n",
              " 'description': 660,\n",
              " 'design': 661,\n",
              " 'broken': 662,\n",
              " 'main': 663,\n",
              " 'highly': 664,\n",
              " 'truly': 665,\n",
              " 'smooth': 666,\n",
              " 'cheaper': 667,\n",
              " 'against': 668,\n",
              " 'add': 669,\n",
              " 'total': 670,\n",
              " 'tube': 671,\n",
              " 'friend': 672,\n",
              " 'daughter': 673,\n",
              " 'mean': 674,\n",
              " 'hairs': 675,\n",
              " 'lines': 676,\n",
              " 'giving': 677,\n",
              " 'pain': 678,\n",
              " 'call': 679,\n",
              " 'taking': 680,\n",
              " 'known': 681,\n",
              " 'dried': 682,\n",
              " 'oh': 683,\n",
              " 'stuck': 684,\n",
              " 'state': 685,\n",
              " 'script': 686,\n",
              " 'coming': 687,\n",
              " 'business': 688,\n",
              " 'powder': 689,\n",
              " 'check': 690,\n",
              " 'mac': 691,\n",
              " 'sticky': 692,\n",
              " \"they're\": 693,\n",
              " 'useless': 694,\n",
              " 'ending': 695,\n",
              " 'air': 696,\n",
              " 'notice': 697,\n",
              " 'scalp': 698,\n",
              " 'purchasing': 699,\n",
              " 'despite': 700,\n",
              " 'download': 701,\n",
              " \"you'll\": 702,\n",
              " 'heard': 703,\n",
              " 'wet': 704,\n",
              " 'dvd': 705,\n",
              " 'husband': 706,\n",
              " 'instructions': 707,\n",
              " 'watched': 708,\n",
              " 'e': 709,\n",
              " 'become': 710,\n",
              " '100': 711,\n",
              " 'non': 712,\n",
              " 'shot': 713,\n",
              " 'wait': 714,\n",
              " 'actual': 715,\n",
              " 'lashes': 716,\n",
              " 'needs': 717,\n",
              " 'friends': 718,\n",
              " 'beauty': 719,\n",
              " 'sorry': 720,\n",
              " 'remember': 721,\n",
              " 'b': 722,\n",
              " 'wig': 723,\n",
              " 'disappointing': 724,\n",
              " 'previous': 725,\n",
              " 'enjoy': 726,\n",
              " 'local': 727,\n",
              " 'fall': 728,\n",
              " 'dont': 729,\n",
              " 'sometimes': 730,\n",
              " 'sort': 731,\n",
              " 'lasted': 732,\n",
              " 'favorite': 733,\n",
              " 'women': 734,\n",
              " 'system': 735,\n",
              " 'ends': 736,\n",
              " 'model': 737,\n",
              " 'crap': 738,\n",
              " 'spent': 739,\n",
              " 'cause': 740,\n",
              " 'tax': 741,\n",
              " 'john': 742,\n",
              " 'mess': 743,\n",
              " 'tiny': 744,\n",
              " 'returning': 745,\n",
              " 'yourself': 746,\n",
              " 'certainly': 747,\n",
              " 'file': 748,\n",
              " 'intuit': 749,\n",
              " 'result': 750,\n",
              " 'men': 751,\n",
              " 'saying': 752,\n",
              " 'opinion': 753,\n",
              " 'except': 754,\n",
              " 'okay': 755,\n",
              " 'lips': 756,\n",
              " 'stand': 757,\n",
              " 'war': 758,\n",
              " 'human': 759,\n",
              " 'chance': 760,\n",
              " 'positive': 761,\n",
              " 'rating': 762,\n",
              " 'apart': 763,\n",
              " 'upon': 764,\n",
              " 'putting': 765,\n",
              " 'barely': 766,\n",
              " 'plays': 767,\n",
              " 'recently': 768,\n",
              " 'avoid': 769,\n",
              " 'expecting': 770,\n",
              " 'turns': 771,\n",
              " 'obviously': 772,\n",
              " 'length': 773,\n",
              " 'parts': 774,\n",
              " 'four': 775,\n",
              " 'recommended': 776,\n",
              " 'decent': 777,\n",
              " 'replace': 778,\n",
              " 'nearly': 779,\n",
              " 'bristles': 780,\n",
              " 'written': 781,\n",
              " 'knew': 782,\n",
              " 'pink': 783,\n",
              " 'burn': 784,\n",
              " 'kids': 785,\n",
              " 'lip': 786,\n",
              " 'threw': 787,\n",
              " 'early': 788,\n",
              " 'caused': 789,\n",
              " 'gift': 790,\n",
              " 'list': 791,\n",
              " 'video': 792,\n",
              " 'advertised': 793,\n",
              " 'shown': 794,\n",
              " 'happen': 795,\n",
              " 'fell': 796,\n",
              " 'near': 797,\n",
              " 'deep': 798,\n",
              " 'effective': 799,\n",
              " 'single': 800,\n",
              " 'possible': 801,\n",
              " 'website': 802,\n",
              " 'effect': 803,\n",
              " 'sad': 804,\n",
              " 'issues': 805,\n",
              " 'himself': 806,\n",
              " 'simple': 807,\n",
              " 'moisturizer': 808,\n",
              " 'curl': 809,\n",
              " 'computer': 810,\n",
              " 're': 811,\n",
              " 'texture': 812,\n",
              " 'book': 813,\n",
              " 'contact': 814,\n",
              " 'applying': 815,\n",
              " 'five': 816,\n",
              " 'classic': 817,\n",
              " 'became': 818,\n",
              " 'trash': 819,\n",
              " 'third': 820,\n",
              " '9': 821,\n",
              " 'slightly': 822,\n",
              " 'impossible': 823,\n",
              " 'touch': 824,\n",
              " 'sunscreen': 825,\n",
              " 'clearly': 826,\n",
              " 'receive': 827,\n",
              " 'application': 828,\n",
              " 'cap': 829,\n",
              " 'orange': 830,\n",
              " 'green': 831,\n",
              " '00': 832,\n",
              " 'none': 833,\n",
              " 'actor': 834,\n",
              " 'beard': 835,\n",
              " 'reaction': 836,\n",
              " 'facial': 837,\n",
              " 's': 838,\n",
              " 'setting': 839,\n",
              " 'anymore': 840,\n",
              " 'boy': 841,\n",
              " 'production': 842,\n",
              " 'basically': 843,\n",
              " 'death': 844,\n",
              " 'self': 845,\n",
              " 'nose': 846,\n",
              " 'wearing': 847,\n",
              " 'burning': 848,\n",
              " 'older': 849,\n",
              " 'middle': 850,\n",
              " 'control': 851,\n",
              " 'process': 852,\n",
              " 'stupid': 853,\n",
              " 'late': 854,\n",
              " 'means': 855,\n",
              " 'base': 856,\n",
              " 'mask': 857,\n",
              " 'cool': 858,\n",
              " 'wonder': 859,\n",
              " 'guys': 860,\n",
              " 'taste': 861,\n",
              " \"aren't\": 862,\n",
              " 'legs': 863,\n",
              " 'literally': 864,\n",
              " 'wasted': 865,\n",
              " 'budget': 866,\n",
              " 'directions': 867,\n",
              " 'toothbrush': 868,\n",
              " 'followed': 869,\n",
              " 'performances': 870,\n",
              " 'sold': 871,\n",
              " 'curly': 872,\n",
              " 'seriously': 873,\n",
              " 'write': 874,\n",
              " 'sell': 875,\n",
              " 'heads': 876,\n",
              " 'comb': 877,\n",
              " 'somewhat': 878,\n",
              " 'beware': 879,\n",
              " 'compared': 880,\n",
              " 'user': 881,\n",
              " 'windows': 882,\n",
              " 'mother': 883,\n",
              " 'asked': 884,\n",
              " 'bag': 885,\n",
              " 'information': 886,\n",
              " 'including': 887,\n",
              " 'dull': 888,\n",
              " 'available': 889,\n",
              " 'surprised': 890,\n",
              " 'nor': 891,\n",
              " 'becomes': 892,\n",
              " 'painful': 893,\n",
              " 'opening': 894,\n",
              " 'pack': 895,\n",
              " 'hollywood': 896,\n",
              " 'beginning': 897,\n",
              " 'major': 898,\n",
              " 'lots': 899,\n",
              " 'continue': 900,\n",
              " 'taken': 901,\n",
              " 'pull': 902,\n",
              " 'deodorant': 903,\n",
              " 'audience': 904,\n",
              " 'office': 905,\n",
              " 'salon': 906,\n",
              " 'directed': 907,\n",
              " 'wants': 908,\n",
              " 'cologne': 909,\n",
              " 'usual': 910,\n",
              " 'upgrade': 911,\n",
              " 'missing': 912,\n",
              " 'throughout': 913,\n",
              " 'mistake': 914,\n",
              " 'running': 915,\n",
              " 'behind': 916,\n",
              " 'fix': 917,\n",
              " 'alone': 918,\n",
              " 'minute': 919,\n",
              " 'pure': 920,\n",
              " 'across': 921,\n",
              " 'example': 922,\n",
              " 'braun': 923,\n",
              " 'son': 924,\n",
              " 'kit': 925,\n",
              " '50': 926,\n",
              " 'spots': 927,\n",
              " 'neck': 928,\n",
              " 'apparently': 929,\n",
              " 'account': 930,\n",
              " 'honestly': 931,\n",
              " 'form': 932,\n",
              " 'starts': 933,\n",
              " '12': 934,\n",
              " 'zero': 935,\n",
              " 'mention': 936,\n",
              " 'glue': 937,\n",
              " 'foundation': 938,\n",
              " 'luck': 939,\n",
              " 'contacted': 940,\n",
              " 'figured': 941,\n",
              " 'material': 942,\n",
              " 'fair': 943,\n",
              " 'ingredient': 944,\n",
              " 'machine': 945,\n",
              " 'lead': 946,\n",
              " 't': 947,\n",
              " 'daily': 948,\n",
              " 'drying': 949,\n",
              " 'washed': 950,\n",
              " 'certain': 951,\n",
              " 'weird': 952,\n",
              " 'gotten': 953,\n",
              " 'normally': 954,\n",
              " 'liquid': 955,\n",
              " 'game': 956,\n",
              " 'cleaning': 957,\n",
              " 'alcohol': 958,\n",
              " 'garbage': 959,\n",
              " 'mail': 960,\n",
              " 'camera': 961,\n",
              " 'items': 962,\n",
              " 'otherwise': 963,\n",
              " 'u': 964,\n",
              " 'dollars': 965,\n",
              " 'junk': 966,\n",
              " 'leaving': 967,\n",
              " 'eventually': 968,\n",
              " 'father': 969,\n",
              " 'blow': 970,\n",
              " 'disappointment': 971,\n",
              " 'room': 972,\n",
              " 'note': 973,\n",
              " 'happens': 974,\n",
              " 'throw': 975,\n",
              " 'chemical': 976,\n",
              " 'treatment': 977,\n",
              " 'level': 978,\n",
              " 'pieces': 979,\n",
              " 'credit': 980,\n",
              " 'appears': 981,\n",
              " 'fresh': 982,\n",
              " 'trouble': 983,\n",
              " 'label': 984,\n",
              " 'school': 985,\n",
              " 'crazy': 986,\n",
              " 'fingers': 987,\n",
              " 'smaller': 988,\n",
              " 'container': 989,\n",
              " 'heart': 990,\n",
              " 'rate': 991,\n",
              " 'moments': 992,\n",
              " 'match': 993,\n",
              " 'brilliant': 994,\n",
              " 'phone': 995,\n",
              " 'children': 996,\n",
              " 'future': 997,\n",
              " 'norelco': 998,\n",
              " 'realized': 999,\n",
              " 'professional': 1000,\n",
              " ...}"
            ]
          },
          "metadata": {
            "tags": []
          },
          "execution_count": 12
        }
      ]
    },
    {
      "cell_type": "code",
      "metadata": {
        "id": "b6He4SKO-qci",
        "colab": {
          "base_uri": "https://localhost:8080/"
        },
        "outputId": "58b4f609-e183-4155-eaa6-578223158de6"
      },
      "source": [
        "data_test = pad_sequences(sequences_test, maxlen=T)\n",
        "print('Shape of data test tensor:', data_test.shape)"
      ],
      "execution_count": null,
      "outputs": [
        {
          "output_type": "stream",
          "text": [
            "Shape of data test tensor: (10890, 3382)\n"
          ],
          "name": "stdout"
        }
      ]
    },
    {
      "cell_type": "code",
      "metadata": {
        "id": "sFnA0eiI-2BM",
        "colab": {
          "base_uri": "https://localhost:8080/"
        },
        "outputId": "2e51b8c6-ebfe-458e-eb7c-ea02ac7e1d26"
      },
      "source": [
        "# Create the model\n",
        "\n",
        "# We get to choose embedding dimensionality\n",
        "D = 30\n",
        "\n",
        "# Hidden state dimensionality\n",
        "M = 10\n",
        "\n",
        "# Note: we actually want to the size of the embedding to (V + 1) x D,\n",
        "# because the first index starts from 1 and not 0.\n",
        "# Thus, if the final index of the embedding matrix is V,\n",
        "# then it actually must have size V + 1.\n",
        "\n",
        "dropout_rate = 0.5\n",
        "\n",
        "i = Input(shape=(T,))\n",
        "x = Embedding(V + 1, D)(i)\n",
        "x = Dropout(dropout_rate)(x)\n",
        "x = GRU(M, return_sequences=True)(x)\n",
        "x = Dropout(dropout_rate)(x)\n",
        "x = GlobalMaxPooling1D()(x)\n",
        "x = Dense(1, activation='sigmoid')(x)\n",
        "\n",
        "model = Model(i, x)\n",
        "\n",
        "# Compile and fit\n",
        "model.compile(\n",
        "  loss='binary_crossentropy',\n",
        "  optimizer='adam',\n",
        "  metrics=['accuracy']\n",
        ")\n",
        "\n",
        "model.summary()"
      ],
      "execution_count": null,
      "outputs": [
        {
          "output_type": "stream",
          "text": [
            "Model: \"model\"\n",
            "_________________________________________________________________\n",
            "Layer (type)                 Output Shape              Param #   \n",
            "=================================================================\n",
            "input_1 (InputLayer)         [(None, 3382)]            0         \n",
            "_________________________________________________________________\n",
            "embedding (Embedding)        (None, 3382, 30)          1627590   \n",
            "_________________________________________________________________\n",
            "dropout (Dropout)            (None, 3382, 30)          0         \n",
            "_________________________________________________________________\n",
            "gru (GRU)                    (None, 3382, 10)          1260      \n",
            "_________________________________________________________________\n",
            "dropout_1 (Dropout)          (None, 3382, 10)          0         \n",
            "_________________________________________________________________\n",
            "global_max_pooling1d (Global (None, 10)                0         \n",
            "_________________________________________________________________\n",
            "dense (Dense)                (None, 1)                 11        \n",
            "=================================================================\n",
            "Total params: 1,628,861\n",
            "Trainable params: 1,628,861\n",
            "Non-trainable params: 0\n",
            "_________________________________________________________________\n"
          ],
          "name": "stdout"
        }
      ]
    },
    {
      "cell_type": "code",
      "metadata": {
        "id": "h984ucWVnU9K"
      },
      "source": [
        "from tensorflow.keras.callbacks import EarlyStopping"
      ],
      "execution_count": null,
      "outputs": []
    },
    {
      "cell_type": "code",
      "metadata": {
        "id": "prHrxbFonWP0"
      },
      "source": [
        "early_stop = EarlyStopping(monitor='val_loss',patience=2)"
      ],
      "execution_count": null,
      "outputs": []
    },
    {
      "cell_type": "code",
      "metadata": {
        "id": "DyBTI9wr_cvG",
        "colab": {
          "base_uri": "https://localhost:8080/"
        },
        "outputId": "b021bd17-d488-437b-a2ec-723f917828ce"
      },
      "source": [
        "\n",
        "print('Training model...')\n",
        "r = model.fit(\n",
        "  data_train,\n",
        "  Ytrain,\n",
        "  epochs=15,\n",
        "  validation_data=(data_test, Ytest),\n",
        "  callbacks=[early_stop]\n",
        ")"
      ],
      "execution_count": null,
      "outputs": [
        {
          "output_type": "stream",
          "text": [
            "Training model...\n",
            "Epoch 1/15\n",
            "757/757 [==============================] - 95s 121ms/step - loss: 0.2967 - accuracy: 0.9074 - val_loss: 0.1563 - val_accuracy: 0.9510\n",
            "Epoch 2/15\n",
            "757/757 [==============================] - 92s 121ms/step - loss: 0.0860 - accuracy: 0.9623 - val_loss: 0.1248 - val_accuracy: 0.9599\n",
            "Epoch 3/15\n",
            "757/757 [==============================] - 91s 120ms/step - loss: 0.0522 - accuracy: 0.9811 - val_loss: 0.0931 - val_accuracy: 0.9722\n",
            "Epoch 4/15\n",
            "757/757 [==============================] - 93s 122ms/step - loss: 0.0357 - accuracy: 0.9880 - val_loss: 0.0884 - val_accuracy: 0.9741\n",
            "Epoch 5/15\n",
            "757/757 [==============================] - 89s 118ms/step - loss: 0.0218 - accuracy: 0.9936 - val_loss: 0.0824 - val_accuracy: 0.9718\n",
            "Epoch 6/15\n",
            "757/757 [==============================] - 91s 120ms/step - loss: 0.0171 - accuracy: 0.9946 - val_loss: 0.0783 - val_accuracy: 0.9709\n",
            "Epoch 7/15\n",
            "757/757 [==============================] - 91s 120ms/step - loss: 0.0100 - accuracy: 0.9976 - val_loss: 0.0790 - val_accuracy: 0.9702\n",
            "Epoch 8/15\n",
            "757/757 [==============================] - 91s 120ms/step - loss: 0.0050 - accuracy: 0.9993 - val_loss: 0.0808 - val_accuracy: 0.9713\n"
          ],
          "name": "stdout"
        }
      ]
    },
    {
      "cell_type": "code",
      "metadata": {
        "id": "j636obn9CE7A"
      },
      "source": [
        "losses = pd.DataFrame(model.history.history)"
      ],
      "execution_count": null,
      "outputs": []
    },
    {
      "cell_type": "code",
      "metadata": {
        "id": "QIK6WwUNCGlR",
        "colab": {
          "base_uri": "https://localhost:8080/",
          "height": 204
        },
        "outputId": "7ba1db1a-c782-46c9-8af7-b856d67a5d09"
      },
      "source": [
        "losses.head()"
      ],
      "execution_count": null,
      "outputs": [
        {
          "output_type": "execute_result",
          "data": {
            "text/html": [
              "<div>\n",
              "<style scoped>\n",
              "    .dataframe tbody tr th:only-of-type {\n",
              "        vertical-align: middle;\n",
              "    }\n",
              "\n",
              "    .dataframe tbody tr th {\n",
              "        vertical-align: top;\n",
              "    }\n",
              "\n",
              "    .dataframe thead th {\n",
              "        text-align: right;\n",
              "    }\n",
              "</style>\n",
              "<table border=\"1\" class=\"dataframe\">\n",
              "  <thead>\n",
              "    <tr style=\"text-align: right;\">\n",
              "      <th></th>\n",
              "      <th>loss</th>\n",
              "      <th>accuracy</th>\n",
              "      <th>val_loss</th>\n",
              "      <th>val_accuracy</th>\n",
              "    </tr>\n",
              "  </thead>\n",
              "  <tbody>\n",
              "    <tr>\n",
              "      <th>0</th>\n",
              "      <td>0.197901</td>\n",
              "      <td>0.923427</td>\n",
              "      <td>0.156250</td>\n",
              "      <td>0.950964</td>\n",
              "    </tr>\n",
              "    <tr>\n",
              "      <th>1</th>\n",
              "      <td>0.079878</td>\n",
              "      <td>0.966404</td>\n",
              "      <td>0.124782</td>\n",
              "      <td>0.959871</td>\n",
              "    </tr>\n",
              "    <tr>\n",
              "      <th>2</th>\n",
              "      <td>0.051588</td>\n",
              "      <td>0.980040</td>\n",
              "      <td>0.093093</td>\n",
              "      <td>0.972176</td>\n",
              "    </tr>\n",
              "    <tr>\n",
              "      <th>3</th>\n",
              "      <td>0.034380</td>\n",
              "      <td>0.987851</td>\n",
              "      <td>0.088404</td>\n",
              "      <td>0.974105</td>\n",
              "    </tr>\n",
              "    <tr>\n",
              "      <th>4</th>\n",
              "      <td>0.022063</td>\n",
              "      <td>0.993306</td>\n",
              "      <td>0.082410</td>\n",
              "      <td>0.971809</td>\n",
              "    </tr>\n",
              "  </tbody>\n",
              "</table>\n",
              "</div>"
            ],
            "text/plain": [
              "       loss  accuracy  val_loss  val_accuracy\n",
              "0  0.197901  0.923427  0.156250      0.950964\n",
              "1  0.079878  0.966404  0.124782      0.959871\n",
              "2  0.051588  0.980040  0.093093      0.972176\n",
              "3  0.034380  0.987851  0.088404      0.974105\n",
              "4  0.022063  0.993306  0.082410      0.971809"
            ]
          },
          "metadata": {
            "tags": []
          },
          "execution_count": 19
        }
      ]
    },
    {
      "cell_type": "code",
      "metadata": {
        "colab": {
          "base_uri": "https://localhost:8080/",
          "height": 282
        },
        "id": "Dox0DXURnwXZ",
        "outputId": "d4ae34d6-b0c6-468e-85f4-11d2908c385e"
      },
      "source": [
        "losses[['accuracy','val_accuracy']].plot()"
      ],
      "execution_count": null,
      "outputs": [
        {
          "output_type": "execute_result",
          "data": {
            "text/plain": [
              "<matplotlib.axes._subplots.AxesSubplot at 0x7fc3f1d63fd0>"
            ]
          },
          "metadata": {
            "tags": []
          },
          "execution_count": 20
        },
        {
          "output_type": "display_data",
          "data": {
            "image/png": "[encoded data removed]",
            "text/plain": [
              "<Figure size 432x288 with 1 Axes>"
            ]
          },
          "metadata": {
            "tags": [],
            "needs_background": "light"
          }
        }
      ]
    },
    {
      "cell_type": "code",
      "metadata": {
        "colab": {
          "base_uri": "https://localhost:8080/",
          "height": 282
        },
        "id": "DFhEYNjCnxaK",
        "outputId": "f4378a9f-ff03-4f25-c4c0-3fc8757031b4"
      },
      "source": [
        "losses[['loss','val_loss']].plot()"
      ],
      "execution_count": null,
      "outputs": [
        {
          "output_type": "execute_result",
          "data": {
            "text/plain": [
              "<matplotlib.axes._subplots.AxesSubplot at 0x7fc3f0ccc250>"
            ]
          },
          "metadata": {
            "tags": []
          },
          "execution_count": 21
        },
        {
          "output_type": "display_data",
          "data": {
            "image/png": "[encoded data removed]",
            "text/plain": [
              "<Figure size 432x288 with 1 Axes>"
            ]
          },
          "metadata": {
            "tags": [],
            "needs_background": "light"
          }
        }
      ]
    },
    {
      "cell_type": "code",
      "metadata": {
        "colab": {
          "base_uri": "https://localhost:8080/"
        },
        "id": "vqbRW93En418",
        "outputId": "2360bb2a-b337-40e5-cceb-de3f83b82512"
      },
      "source": [
        "print(model.metrics_names)\n",
        "print(model.evaluate(data_test,Ytest,verbose=0))"
      ],
      "execution_count": null,
      "outputs": [
        {
          "output_type": "stream",
          "text": [
            "['loss', 'accuracy']\n",
            "[0.0807533860206604, 0.9712580442428589]\n"
          ],
          "name": "stdout"
        }
      ]
    },
    {
      "cell_type": "code",
      "metadata": {
        "id": "syB6o5tAoJ1J"
      },
      "source": [
        "from sklearn.metrics import classification_report,confusion_matrix\n",
        "\n",
        "predictions = model.predict(data_test)\n",
        "\n",
        "Category_Threshhold = 0.5\n",
        "predictions = [1 if x>Category_Threshhold else 0 for x in predictions]"
      ],
      "execution_count": null,
      "outputs": []
    },
    {
      "cell_type": "code",
      "metadata": {
        "colab": {
          "base_uri": "https://localhost:8080/"
        },
        "id": "0fyUy-G5oSNa",
        "outputId": "7fa27a67-82d4-4e11-bd1a-c74ef3a1d5d0"
      },
      "source": [
        "print(classification_report(Ytest,predictions))"
      ],
      "execution_count": null,
      "outputs": [
        {
          "output_type": "stream",
          "text": [
            "              precision    recall  f1-score   support\n",
            "\n",
            "           0       0.99      0.98      0.98      9772\n",
            "           1       0.83      0.90      0.87      1118\n",
            "\n",
            "    accuracy                           0.97     10890\n",
            "   macro avg       0.91      0.94      0.92     10890\n",
            "weighted avg       0.97      0.97      0.97     10890\n",
            "\n"
          ],
          "name": "stdout"
        }
      ]
    },
    {
      "cell_type": "code",
      "metadata": {
        "colab": {
          "base_uri": "https://localhost:8080/"
        },
        "id": "niWO7eM2y0Or",
        "outputId": "dfeb567f-ac87-4c4d-f43e-4bc5d4d24818"
      },
      "source": [
        " tn, fp, fn, tp = confusion_matrix(Ytest,predictions).ravel()\n",
        "(tn, fp, fn, tp)"
      ],
      "execution_count": null,
      "outputs": [
        {
          "output_type": "execute_result",
          "data": {
            "text/plain": [
              "(9297, 475, 22, 1096)"
            ]
          },
          "metadata": {
            "tags": []
          },
          "execution_count": 25
        }
      ]
    },
    {
      "cell_type": "code",
      "metadata": {
        "colab": {
          "base_uri": "https://localhost:8080/"
        },
        "id": "-PKO5PujKgih",
        "outputId": "18194fee-2886-44eb-e042-ff6d640110de"
      },
      "source": [
        "!head runtime_test_without_labels.csv"
      ],
      "execution_count": null,
      "outputs": [
        {
          "output_type": "stream",
          "text": [
            "review\n",
            "\"This looked like the solution to all my makeup needs. I could just stick it in my purse and be done with it. Oh, don't do that. The blush with crumble and get into the lip gloss and then it's ruined. The eye shadow will leave powdery traces on everything in your purse. This tempting little disaster has to stay at home on your makeup table, and that just isn't the point, is it?\"\n",
            "\"Just an average oil at best. Smells sweet and more faint than other peppmint oils I own. I purchased another oil with the peppermint and while both smell nice, they are not nearly as strong as other essentials oils used in my diffuser. I will likely pass on buying more Majestic Products as it seems the potency is just not there. I can put 5 drops in my diffuser and it not hold a candle to others oils with only 3 drops. Not a terrible oil but just not strong. I find it a much more pleasing smell than more pure forms so I think it would be a great one to use on the body. I plan on using it in my palms for aromatherapy to use it up.\"\n",
            "\"I has my hair dresser order this for me off of ebay probably about 4 or 5 months ago. It always worked really good...I'm not going to say great because I never felt that it really did wonders for my hair like a lot of people hair. About 2 months into having it I started having problems where it wouldnt turn on, so I had to press the reset button on the plug but then it'd pop right back out so I had to do that several times till it would go on. Now, its pretty much dead. If you hold it a certain way it will heat up but its just not styling right. For the money I spent on it, it should have lasted me years, not 4 months! So now I dont know if I want to replace it or look for something else. It's just a big inconvenience because my hair is too short to put up so im stuck wearing it down so i need a good flat iron!  Now after writing this review I've noticed many other complaints on here and other sites about it going bad quickly. Very annoying!!!!!!!\"\n",
            "\"Brought this at target, but it's the same product.  Simply terrible. Takes forever to dry, meaning hours not minutes!  Chipped within 24 hours.  Better off paying less for a regular Polish.  This will be the first beauty product I ever returned for not liking it!\"\n",
            "\"I bought 2 boxes of this, and it was a fail! I was scared to use it because it had a shelf life that ENDED IN 1998! The company refunded me  luckily and blame Clairol, but still do NOT buy this!\"\n",
            "\"I order two products of the same, they only shipped one, though they charged for both.    it is really hard to use, is not that easy and then u have to be purchasing the gels to keep using the machine.\"\n",
            "\"Too harsh and drying.  Has nothing to do with the scrub grittiness, but everything to do with the harsh chemicals (TEA lauryl sulfate).  I will definitely be going back to my Taylor of Old Bond Street facial scrub.\"\n",
            "\"This product not only caused permanent damage to my hair, it also failed to cover my grey hair.  My original  hair was silky smooth , with 30% grey.  I faithfully followed the instructions printed on the label for both steps.  It was a very messy process but I persevered.  I ended up with extremely dry, frizzy hair.  The grey turned into light yellow ( the intended color was black).  So I now have 70% black (original hair) and 30% light yellow (due to this product), dry and frizzy hair.  I will never use this product again.\"\n",
            "Tried this for over a month and it has done nothing for the dark spots on my brown Afro-American complexion. No disrespect intended but maybe it's not really for all skin color. For the price and the claim and I was very disappointed.\n"
          ],
          "name": "stdout"
        }
      ]
    },
    {
      "cell_type": "code",
      "metadata": {
        "id": "gRUTcVvAKTK3"
      },
      "source": [
        "runtime = pd.read_csv(\"runtime_test_without_labels.csv\", encoding='latin-1')"
      ],
      "execution_count": null,
      "outputs": []
    },
    {
      "cell_type": "code",
      "metadata": {
        "colab": {
          "base_uri": "https://localhost:8080/",
          "height": 204
        },
        "id": "FJiXuJmlKtOp",
        "outputId": "396a6adb-5f6f-4161-e046-c1f56bee3f04"
      },
      "source": [
        "runtime.tail()"
      ],
      "execution_count": null,
      "outputs": [
        {
          "output_type": "execute_result",
          "data": {
            "text/html": [
              "<div>\n",
              "<style scoped>\n",
              "    .dataframe tbody tr th:only-of-type {\n",
              "        vertical-align: middle;\n",
              "    }\n",
              "\n",
              "    .dataframe tbody tr th {\n",
              "        vertical-align: top;\n",
              "    }\n",
              "\n",
              "    .dataframe thead th {\n",
              "        text-align: right;\n",
              "    }\n",
              "</style>\n",
              "<table border=\"1\" class=\"dataframe\">\n",
              "  <thead>\n",
              "    <tr style=\"text-align: right;\">\n",
              "      <th></th>\n",
              "      <th>review</th>\n",
              "    </tr>\n",
              "  </thead>\n",
              "  <tbody>\n",
              "    <tr>\n",
              "      <th>198983</th>\n",
              "      <td>It does firm the under-eye area by shellacking...</td>\n",
              "    </tr>\n",
              "    <tr>\n",
              "      <th>198984</th>\n",
              "      <td>The product arrived in a skeptical package; th...</td>\n",
              "    </tr>\n",
              "    <tr>\n",
              "      <th>198985</th>\n",
              "      <td>The first time i bought this soap,it worked ve...</td>\n",
              "    </tr>\n",
              "    <tr>\n",
              "      <th>198986</th>\n",
              "      <td>I used it for 2 weeks now and find this lotion...</td>\n",
              "    </tr>\n",
              "    <tr>\n",
              "      <th>198987</th>\n",
              "      <td>It was cool to have a transparent purse and ha...</td>\n",
              "    </tr>\n",
              "  </tbody>\n",
              "</table>\n",
              "</div>"
            ],
            "text/plain": [
              "                                                   review\n",
              "198983  It does firm the under-eye area by shellacking...\n",
              "198984  The product arrived in a skeptical package; th...\n",
              "198985  The first time i bought this soap,it worked ve...\n",
              "198986  I used it for 2 weeks now and find this lotion...\n",
              "198987  It was cool to have a transparent purse and ha..."
            ]
          },
          "metadata": {
            "tags": []
          },
          "execution_count": 57
        }
      ]
    },
    {
      "cell_type": "code",
      "metadata": {
        "id": "mLq-71cEMZUd"
      },
      "source": [
        "sequences_runtime = tokenizer.texts_to_sequences(runtime['review'])"
      ],
      "execution_count": null,
      "outputs": []
    },
    {
      "cell_type": "code",
      "metadata": {
        "colab": {
          "base_uri": "https://localhost:8080/"
        },
        "id": "RW-ZwCWEMls3",
        "outputId": "5da0b840-f955-401d-e00c-805f92e79832"
      },
      "source": [
        "data_runtime = pad_sequences(sequences_runtime, maxlen=T)\n",
        "print('Shape of data test tensor:', data_runtime.shape)"
      ],
      "execution_count": null,
      "outputs": [
        {
          "output_type": "stream",
          "text": [
            "Shape of data test tensor: (198988, 3382)\n"
          ],
          "name": "stdout"
        }
      ]
    },
    {
      "cell_type": "code",
      "metadata": {
        "id": "CFITeahWLHAu"
      },
      "source": [
        "predictions = model.predict(data_runtime)\n",
        "\n",
        "predictions = [1 if x > Category_Threshhold else 0 for x in predictions]"
      ],
      "execution_count": null,
      "outputs": []
    },
    {
      "cell_type": "code",
      "metadata": {
        "id": "gTFFzEv_OMD-"
      },
      "source": [
        "runtime['predict'] = predictions"
      ],
      "execution_count": null,
      "outputs": []
    },
    {
      "cell_type": "code",
      "metadata": {
        "colab": {
          "base_uri": "https://localhost:8080/",
          "height": 204
        },
        "id": "QbKkbWQXOL5W",
        "outputId": "a7dd3a66-f7f6-4d90-ea74-09fa80415d23"
      },
      "source": [
        "runtime.tail()"
      ],
      "execution_count": null,
      "outputs": [
        {
          "output_type": "execute_result",
          "data": {
            "text/html": [
              "<div>\n",
              "<style scoped>\n",
              "    .dataframe tbody tr th:only-of-type {\n",
              "        vertical-align: middle;\n",
              "    }\n",
              "\n",
              "    .dataframe tbody tr th {\n",
              "        vertical-align: top;\n",
              "    }\n",
              "\n",
              "    .dataframe thead th {\n",
              "        text-align: right;\n",
              "    }\n",
              "</style>\n",
              "<table border=\"1\" class=\"dataframe\">\n",
              "  <thead>\n",
              "    <tr style=\"text-align: right;\">\n",
              "      <th></th>\n",
              "      <th>review</th>\n",
              "      <th>predict</th>\n",
              "    </tr>\n",
              "  </thead>\n",
              "  <tbody>\n",
              "    <tr>\n",
              "      <th>198983</th>\n",
              "      <td>It does firm the under-eye area by shellacking...</td>\n",
              "      <td>0</td>\n",
              "    </tr>\n",
              "    <tr>\n",
              "      <th>198984</th>\n",
              "      <td>The product arrived in a skeptical package; th...</td>\n",
              "      <td>0</td>\n",
              "    </tr>\n",
              "    <tr>\n",
              "      <th>198985</th>\n",
              "      <td>The first time i bought this soap,it worked ve...</td>\n",
              "      <td>0</td>\n",
              "    </tr>\n",
              "    <tr>\n",
              "      <th>198986</th>\n",
              "      <td>I used it for 2 weeks now and find this lotion...</td>\n",
              "      <td>0</td>\n",
              "    </tr>\n",
              "    <tr>\n",
              "      <th>198987</th>\n",
              "      <td>It was cool to have a transparent purse and ha...</td>\n",
              "      <td>0</td>\n",
              "    </tr>\n",
              "  </tbody>\n",
              "</table>\n",
              "</div>"
            ],
            "text/plain": [
              "                                                   review  predict\n",
              "198983  It does firm the under-eye area by shellacking...        0\n",
              "198984  The product arrived in a skeptical package; th...        0\n",
              "198985  The first time i bought this soap,it worked ve...        0\n",
              "198986  I used it for 2 weeks now and find this lotion...        0\n",
              "198987  It was cool to have a transparent purse and ha...        0"
            ]
          },
          "metadata": {
            "tags": []
          },
          "execution_count": 52
        }
      ]
    },
    {
      "cell_type": "code",
      "metadata": {
        "id": "TSG6xwlpOxVX"
      },
      "source": [
        "compression_opts = dict(method='zip',\n",
        "                        archive_name='runtime_test.csv')  \n",
        "df.to_csv('runtime_test.zip', index=False,\n",
        "          compression=compression_opts)  "
      ],
      "execution_count": null,
      "outputs": []
    }
  ]
}