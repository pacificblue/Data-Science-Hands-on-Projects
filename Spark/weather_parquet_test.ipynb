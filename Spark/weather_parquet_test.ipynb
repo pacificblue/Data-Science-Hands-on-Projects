{
 "cells": [
  {
   "cell_type": "code",
   "execution_count": 1,
   "metadata": {},
   "outputs": [],
   "source": [
    "import findspark\n",
    "findspark.init()"
   ]
  },
  {
   "cell_type": "code",
   "execution_count": 2,
   "metadata": {},
   "outputs": [
    {
     "data": {
      "text/plain": [
       "'C:\\\\spark\\\\spark-2.4.6-bin-hadoop2.7'"
      ]
     },
     "execution_count": 2,
     "metadata": {},
     "output_type": "execute_result"
    }
   ],
   "source": [
    "findspark.find()"
   ]
  },
  {
   "cell_type": "code",
   "execution_count": 3,
   "metadata": {},
   "outputs": [],
   "source": [
    "import pyspark\n",
    "from pyspark import SparkContext, SparkConf\n",
    "from pyspark.sql import SparkSession"
   ]
  },
  {
   "cell_type": "code",
   "execution_count": 4,
   "metadata": {},
   "outputs": [],
   "source": [
    "conf = pyspark.SparkConf().setAppName('weather').setAll([('spark.maximizeResourceAllocation', 'true')])\n",
    "sc = pyspark.SparkContext(conf=conf)\n",
    "spark = SparkSession(sc)"
   ]
  },
  {
   "cell_type": "code",
   "execution_count": 5,
   "metadata": {},
   "outputs": [],
   "source": [
    "df = spark.read.parquet(\"result\")"
   ]
  },
  {
   "cell_type": "code",
   "execution_count": 6,
   "metadata": {},
   "outputs": [
    {
     "data": {
      "text/plain": [
       "[Row(ForecastSiteCode='3609', ObservationTime='0', ObservationDate=datetime.date(2016, 2, 2), WindDirection='11', WindSpeed='26', WindGust='38', Visibility=None, ScreenTemperature=9.5, Pressure='1016', SignificantWeatherCode='-99', SiteName='MUMBLES HEAD (3609)', Latitude='51.5650', Longitude='-3.9810', Region='Wales', Country='WALES', partitionYear=2016, partitionMonth=2, partitionDay=2),\n",
       " Row(ForecastSiteCode='3132', ObservationTime='13', ObservationDate=datetime.date(2016, 2, 2), WindDirection='12', WindSpeed='24', WindGust='38', Visibility='14000', ScreenTemperature=7.9, Pressure='1006', SignificantWeatherCode='3', SiteName='WEST FREUGH (ESAWS) (3132)', Latitude='54.8590', Longitude='-4.9360', Region='Dumfries, Galloway', Country='SCOTLAND', partitionYear=2016, partitionMonth=2, partitionDay=2)]"
      ]
     },
     "execution_count": 6,
     "metadata": {},
     "output_type": "execute_result"
    }
   ],
   "source": [
    "df.head(2)"
   ]
  },
  {
   "cell_type": "code",
   "execution_count": 7,
   "metadata": {},
   "outputs": [],
   "source": [
    "#df.describe(\"ScreenTemperature\", \"Region\").show()"
   ]
  },
  {
   "cell_type": "code",
   "execution_count": 8,
   "metadata": {},
   "outputs": [
    {
     "data": {
      "text/plain": [
       "[('ForecastSiteCode', 'string'),\n",
       " ('ObservationTime', 'string'),\n",
       " ('ObservationDate', 'date'),\n",
       " ('WindDirection', 'string'),\n",
       " ('WindSpeed', 'string'),\n",
       " ('WindGust', 'string'),\n",
       " ('Visibility', 'string'),\n",
       " ('ScreenTemperature', 'double'),\n",
       " ('Pressure', 'string'),\n",
       " ('SignificantWeatherCode', 'string'),\n",
       " ('SiteName', 'string'),\n",
       " ('Latitude', 'string'),\n",
       " ('Longitude', 'string'),\n",
       " ('Region', 'string'),\n",
       " ('Country', 'string'),\n",
       " ('partitionYear', 'int'),\n",
       " ('partitionMonth', 'int'),\n",
       " ('partitionDay', 'int')]"
      ]
     },
     "execution_count": 8,
     "metadata": {},
     "output_type": "execute_result"
    }
   ],
   "source": [
    "df.dtypes"
   ]
  },
  {
   "cell_type": "code",
   "execution_count": 9,
   "metadata": {},
   "outputs": [],
   "source": [
    "df.createGlobalTempView(\"weather\")"
   ]
  },
  {
   "cell_type": "code",
   "execution_count": 10,
   "metadata": {},
   "outputs": [
    {
     "name": "stdout",
     "output_type": "stream",
     "text": [
      "+---------------+--------------------+-----------------+\n",
      "|ObservationDate|              Region|ScreenTemperature|\n",
      "+---------------+--------------------+-----------------+\n",
      "|     2016-03-17|Highland & Eilean...|             15.8|\n",
      "+---------------+--------------------+-----------------+\n",
      "\n"
     ]
    }
   ],
   "source": [
    "spark.sql(\"SELECT ObservationDate, Region, ScreenTemperature FROM global_temp.weather WHERE ScreenTemperature = (SELECT MAX(ScreenTemperature) FROM global_temp.weather)\").show()"
   ]
  },
  {
   "cell_type": "code",
   "execution_count": null,
   "metadata": {},
   "outputs": [],
   "source": []
  }
 ],
 "metadata": {
  "kernelspec": {
   "display_name": "Python 3",
   "language": "python",
   "name": "python3"
  },
  "language_info": {
   "codemirror_mode": {
    "name": "ipython",
    "version": 3
   },
   "file_extension": ".py",
   "mimetype": "text/x-python",
   "name": "python",
   "nbconvert_exporter": "python",
   "pygments_lexer": "ipython3",
   "version": "3.7.4"
  }
 },
 "nbformat": 4,
 "nbformat_minor": 2
}
